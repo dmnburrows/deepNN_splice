{
 "cells": [
  {
   "cell_type": "code",
   "execution_count": 620,
   "id": "57b0b37d",
   "metadata": {},
   "outputs": [
    {
     "name": "stdout",
     "output_type": "stream",
     "text": [
      "The autoreload extension is already loaded. To reload it, use:\n",
      "  %reload_ext autoreload\n",
      "Python version 3.9.7 | packaged by conda-forge | (default, Sep 29 2021, 19:23:11) \n",
      "[GCC 9.4.0]\n",
      "Python path /home/dburrows/mambaforge/envs/pytorch1/bin/python\n"
     ]
    }
   ],
   "source": [
    "#CONDA ENV pytorch1 (python 3.9.7)\n",
    "#Import packages\n",
    "#---------------------------------------\n",
    "import sys\n",
    "import os\n",
    "import glob\n",
    "import pandas as pd\n",
    "from matplotlib import pyplot as plt\n",
    "import numpy as np\n",
    "from multiprocessing import Pool\n",
    "import process_functions as pf\n",
    "import pyBigWig as bw\n",
    "import torch\n",
    "from enformer_pytorch import Enformer, GenomeIntervalDataset\n",
    "import polars as pl\n",
    "from torch import Tensor\n",
    "\n",
    "#Import your modules\n",
    "#---------------------------------------\n",
    "sys.path.insert(1, '/cndd3/dburrows/CODE/admin_tools/')\n",
    "from admin_tools import admin_functions as adm\n",
    "\n",
    "# Define paths\n",
    "#----------------------------------------------------------------------\n",
    "l_code = '/Users/dominicburrows/Dropbox/PhD/Analysis/my_scripts/GitHub/'\n",
    "l_data = '/Users/dominicburrows/Dropbox/PhD/analysis/Project/'\n",
    "l_fig = '/Users/dominicburrows/Dropbox/PhD/figures/'\n",
    "\n",
    "s_code = '/cndd3/dburrows/CODE/'\n",
    "s_data = '/cndd3/dburrows/DATA/'\n",
    "s_fig = '/cndd3/dburrows/FIGS/'\n",
    "\n",
    "%load_ext autoreload\n",
    "print(f'Python version {sys.version}')\n",
    "print(f'Python path {sys.executable}')"
   ]
  },
  {
   "cell_type": "code",
   "execution_count": 513,
   "id": "66aeadb4",
   "metadata": {},
   "outputs": [
    {
     "name": "stderr",
     "output_type": "stream",
     "text": [
      "/tmp/ipykernel_2642216/2337270338.py:2: DtypeWarning: Columns (17,18) have mixed types. Specify dtype option on import or set low_memory=False.\n",
      "  splice = pd.read_csv('/cndd2/dburrows/DATA/splice/model/processed_data/SJ.comb.nonan.bed', sep='\\t', index_col=0)\n"
     ]
    }
   ],
   "source": [
    "#Load in data, nonan\n",
    "splice = pd.read_csv('/cndd2/dburrows/DATA/splice/model/processed_data/SJ.comb.nonan.bed', sep='\\t', index_col=0)\n",
    "#splice.index = splice['id-unique'] #set spliceid as index\n",
    "mcg = pd.read_csv('/cndd2/dburrows/DATA/splice/model/processed_data/CG.bingraph.nonan.raw', sep='\\t', index_col=0)\n",
    "mch = pd.read_csv('/cndd2/dburrows/DATA/splice/model/processed_data/CAC.bingraph.nonan.raw', sep='\\t', index_col=0)\n",
    "atac = pd.read_csv('/cndd2/dburrows/DATA/splice/model/processed_data/ATAC.bingraph.nonan.raw', sep='\\t', index_col=0)"
   ]
  },
  {
   "cell_type": "markdown",
   "id": "7138b572",
   "metadata": {},
   "source": [
    "# Deal with nans"
   ]
  },
  {
   "cell_type": "code",
   "execution_count": 504,
   "id": "de96eb3f",
   "metadata": {},
   "outputs": [
    {
     "name": "stderr",
     "output_type": "stream",
     "text": [
      "/tmp/ipykernel_2642216/1356148680.py:2: DtypeWarning: Columns (17,18) have mixed types. Specify dtype option on import or set low_memory=False.\n",
      "  splice = pd.read_csv('/cndd2/dburrows/DATA/splice/model/processed_data/SJ.comb.bed', sep='\\t', index_col=0)\n"
     ]
    }
   ],
   "source": [
    "#load in data with nan\n",
    "splice = pd.read_csv('/cndd2/dburrows/DATA/splice/model/processed_data/SJ.comb.bed', sep='\\t', index_col=0)\n",
    "splice.index = splice['id-unique'] #set spliceid as index\n",
    "mcg = pd.read_csv('/cndd2/dburrows/DATA/splice/model/processed_data/CG.bingraph.raw', sep='\\t', index_col=0)\n",
    "mch = pd.read_csv('/cndd2/dburrows/DATA/splice/model/processed_data/CAC.bingraph.raw', sep='\\t', index_col=0)\n",
    "atac = pd.read_csv('/cndd2/dburrows/DATA/splice/model/processed_data/ATAC.bingraph.raw', sep='\\t', index_col=0)"
   ]
  },
  {
   "cell_type": "code",
   "execution_count": 512,
   "id": "dc123509",
   "metadata": {},
   "outputs": [
    {
     "name": "stderr",
     "output_type": "stream",
     "text": [
      "/tmp/ipykernel_2642216/382728774.py:39: RuntimeWarning: Mean of empty slice\n",
      "  new_v = np.nanmean(np.vstack((sub_curr.values[left], sub_curr.values[right])), axis=0)  # Take mean either side, ignore NaNs\n"
     ]
    }
   ],
   "source": [
    "#remove nans by imputing and averaging neighbours\n",
    "#=================================================\n",
    "max_nan = 10 #up to 10 nans per SJ allowed\n",
    "mcg_nn, mcg_id = remove_nans_impute(mcg, max_nan)\n",
    "mch_nn, mch_id = remove_nans_impute(mch, max_nan)\n",
    "\n",
    "#find unique ids \n",
    "unq_id = np.unique(np.append(mcg_id, mch_id))\n",
    "\n",
    "#filter splice and atac, cg + mch\n",
    "# Dropping rows in place and ignoring errors for missing indices\n",
    "splice.drop(unq_id, inplace=True, errors='ignore')\n",
    "atac.drop(unq_id, inplace=True, errors='ignore')\n",
    "\n",
    "#filter mcg + mch; NB do on nan filtered files\n",
    "mcg_nn.drop(unq_id, inplace=True, errors='ignore')\n",
    "mch_nn.drop(unq_id, inplace=True, errors='ignore')\n",
    "assert len(splice) == len(atac) == len(mcg_nn) == len(mch_nn), 'Some nan-filtered files not the same length'\n",
    "\n",
    "#make sure all follow the same order\n",
    "atac = atac.loc[splice.index.values]\n",
    "mcg_nn = mcg_nn.loc[splice.index.values]\n",
    "mch_nn = mch_nn.loc[splice.index.values]\n",
    "assert sum(splice.index.values == atac.index.values) == len(splice.index), 'some atac ids dont match SJs'\n",
    "assert sum(splice.index.values == mcg_nn.index.values) == len(splice.index), 'some mcg ids dont match SJs'\n",
    "assert sum(splice.index.values == mch_nn.index.values) == len(splice.index), 'some mch ids dont match SJs'\n",
    "\n",
    "splice.to_csv('/cndd2/dburrows/DATA/splice/model/processed_data/SJ.comb.nonan.bed', sep='\\t', header=True, index=True)\n",
    "atac.to_csv('/cndd2/dburrows/DATA/splice/model/processed_data/ATAC.bingraph.nonan.raw', sep='\\t', index=True)\n",
    "mcg_nn.to_csv('/cndd2/dburrows/DATA/splice/model/processed_data/CG.bingraph.nonan.raw', sep='\\t', index=True)\n",
    "mch_nn.to_csv('/cndd2/dburrows/DATA/splice/model/processed_data/CAC.bingraph.nonan.raw', sep='\\t', index=True)"
   ]
  },
  {
   "cell_type": "code",
   "execution_count": 274,
   "id": "2f0be704",
   "metadata": {},
   "outputs": [
    {
     "name": "stdout",
     "output_type": "stream",
     "text": [
      "14.0% of SJs contain mcg nans\n",
      "2.0% of SJs contain mch nans\n"
     ]
    }
   ],
   "source": [
    "#Deal with nans\n",
    "print(f'{np.ceil((sum(np.sum(np.isnan(mcg).values,axis=1) > 0) / len(mcg))*100)}% of SJs contain mcg nans') \n",
    "print(f'{np.ceil((sum(np.sum(np.isnan(mch).values,axis=1) > 0) / len(mch))*100)}% of SJs contain mch nans') "
   ]
  },
  {
   "cell_type": "code",
   "execution_count": 241,
   "id": "a2d1e80e",
   "metadata": {},
   "outputs": [
    {
     "data": {
      "image/png": "[encoded data removed]",
      "text/plain": [
       "<Figure size 360x360 with 1 Axes>"
      ]
     },
     "metadata": {
      "needs_background": "light"
     },
     "output_type": "display_data"
    }
   ],
   "source": [
    "#plot number of nans in mcg\n",
    "curr = mcg.values\n",
    "sum_nan = np.sum(np.isnan(curr),axis=1)\n",
    "fig,ax = plt.subplots(figsize=(5,5))\n",
    "plt.hist(sum_nan,bins=np.geomspace(1,np.max(sum_nan),10))\n",
    "plt.xscale('log')\n",
    "plt.show()"
   ]
  },
  {
   "cell_type": "code",
   "execution_count": 239,
   "id": "a12bf268",
   "metadata": {},
   "outputs": [
    {
     "data": {
      "image/png": "[encoded data removed]",
      "text/plain": [
       "<Figure size 360x360 with 1 Axes>"
      ]
     },
     "metadata": {
      "needs_background": "light"
     },
     "output_type": "display_data"
    }
   ],
   "source": [
    "#plot number of nans in mch\n",
    "curr = mch.values\n",
    "sum_nan = np.sum(np.isnan(curr),axis=1)\n",
    "fig,ax = plt.subplots(figsize=(5,5))\n",
    "plt.hist(sum_nan,bins=np.geomspace(1,np.max(sum_nan),10))\n",
    "plt.xscale('log')\n",
    "plt.show()"
   ]
  },
  {
   "cell_type": "code",
   "execution_count": 404,
   "id": "97f87ed8",
   "metadata": {},
   "outputs": [
    {
     "name": "stderr",
     "output_type": "stream",
     "text": [
      "/tmp/ipykernel_2642216/947742712.py:19: RuntimeWarning: Mean of empty slice\n",
      "  new_v = np.nanmean(np.vstack((sub_curr.values[left], sub_curr.values[right])),axis=0) #take mean either side and ignore nans\n"
     ]
    }
   ],
   "source": [
    "curr= mcg\n",
    "max_nan = 10 #max number of nans per SJ for inclusion\n",
    "remove_id = [] #ids to remove\n",
    "\n",
    "sum_nan = np.sum(np.isnan(curr.values),axis=1) #find number of nans per SJ\n",
    "remove_id.append(curr[sum_nan > max_nan].index.values) #ids to remove\n",
    "sub_curr = curr[sum_nan < max_nan].copy() #extract only SJs with fewer nan than max_nan\n",
    "\n",
    "#keep looping until no nans remain\n",
    "loc = np.where(np.isnan(sub_curr.values)==True)\n",
    "count=1\n",
    "while np.sum(np.isnan(sub_curr.values)) > 0:\n",
    "    loc = np.where(np.isnan(sub_curr.values)==True)\n",
    "    left = loc[0],loc[1]-count\n",
    "    left[1][left[1] < 0] = 0\n",
    "    right = loc[0],loc[1]+count\n",
    "    right[1][right[1] >= curr.shape[1]] = curr.shape[1] - 1\n",
    "    \n",
    "    new_v = np.nanmean(np.vstack((sub_curr.values[left], sub_curr.values[right])),axis=0) #take mean either side and ignore nans\n",
    "    sub_curr.values[loc] = new_v\n",
    "    count+=1\n",
    "\n",
    "assert np.sum(np.isnan(sub_curr.values)) == 0, 'nans still left'\n"
   ]
  },
  {
   "cell_type": "code",
   "execution_count": 388,
   "id": "0c2bc17d",
   "metadata": {},
   "outputs": [],
   "source": [
    "#Visualise nan imputing\n",
    "sum_nan = np.sum(np.isnan(curr.values),axis=1) #find number of nans per SJ\n",
    "remove_id.append(curr[sum_nan > max_nan].index.values) #ids to remove\n",
    "wub_curr = curr[sum_nan < max_nan].copy()\n"
   ]
  },
  {
   "cell_type": "code",
   "execution_count": 406,
   "id": "99d84b11",
   "metadata": {},
   "outputs": [
    {
     "data": {
      "image/png": "[encoded data removed]",
      "text/plain": [
       "<Figure size 432x288 with 1 Axes>"
      ]
     },
     "metadata": {
      "needs_background": "light"
     },
     "output_type": "display_data"
    },
    {
     "data": {
      "image/png": "[encoded data removed]",
      "text/plain": [
       "<Figure size 432x288 with 1 Axes>"
      ]
     },
     "metadata": {
      "needs_background": "light"
     },
     "output_type": "display_data"
    },
    {
     "data": {
      "image/png": "[encoded data removed]",
      "text/plain": [
       "<Figure size 432x288 with 1 Axes>"
      ]
     },
     "metadata": {
      "needs_background": "light"
     },
     "output_type": "display_data"
    },
    {
     "data": {
      "image/png": "[encoded data removed]",
      "text/plain": [
       "<Figure size 432x288 with 1 Axes>"
      ]
     },
     "metadata": {
      "needs_background": "light"
     },
     "output_type": "display_data"
    },
    {
     "data": {
      "image/png": "[encoded data removed]",
      "text/plain": [
       "<Figure size 432x288 with 1 Axes>"
      ]
     },
     "metadata": {
      "needs_background": "light"
     },
     "output_type": "display_data"
    }
   ],
   "source": [
    "ok = curr[sum_nan == 9][::2]\n",
    "for i in range(5):\n",
    "    curr_ind = ok.index[i]\n",
    "    plt.plot(ok.iloc[i], c='k')\n",
    "    plt.plot(sub_curr.loc[curr_ind], c='red',alpha=0.5)\n",
    "    plt.show()"
   ]
  },
  {
   "cell_type": "markdown",
   "id": "5aefec7c",
   "metadata": {},
   "source": [
    "# Run MLP on binned epi data only"
   ]
  },
  {
   "cell_type": "code",
   "execution_count": 621,
   "id": "128dcb1f",
   "metadata": {},
   "outputs": [
    {
     "data": {
      "text/plain": [
       "<torch._C.Generator at 0x7f092b3b9770>"
      ]
     },
     "execution_count": 621,
     "metadata": {},
     "output_type": "execute_result"
    }
   ],
   "source": [
    "#set seed for RNG\n",
    "torch.manual_seed(42)"
   ]
  },
  {
   "cell_type": "code",
   "execution_count": 622,
   "id": "49c0a45a",
   "metadata": {},
   "outputs": [
    {
     "name": "stdout",
     "output_type": "stream",
     "text": [
      "Train samples = 156380\n",
      "Val samples = 82664\n",
      "Test samples = 61440\n",
      "Split: 52.0 %train,\n",
      "      28.000000000000004 %val,\n",
      "      20.0 %test\n",
      "      \n"
     ]
    }
   ],
   "source": [
    "#subset data for practice run\n",
    "#=====================================================\n",
    "train_splice = splice[splice['chromosome'] == 'chr1']\n",
    "train_mcg = mcg.loc[train_splice.index.values]\n",
    "train_mch = mch.loc[train_splice.index.values]\n",
    "train_atac = atac.loc[train_splice.index.values]\n",
    "assert len(train_splice) == len(train_mcg) == len(train_mch) == len(train_atac)\n",
    "\n",
    "val_splice = splice[splice['chromosome'] == 'chr16']\n",
    "val_mcg = mcg.loc[val_splice.index.values]\n",
    "val_mch = mch.loc[val_splice.index.values]\n",
    "val_atac = atac.loc[val_splice.index.values]\n",
    "assert len(val_splice) == len(val_mcg) == len(val_mch) == len(val_atac)\n",
    "\n",
    "test_splice = splice[splice['chromosome'] == 'chr18']\n",
    "test_mcg = mcg.loc[test_splice.index.values]\n",
    "test_mch = mch.loc[test_splice.index.values]\n",
    "test_atac = atac.loc[test_splice.index.values]\n",
    "assert len(test_splice) == len(test_mcg) == len(test_mch) == len(test_atac)\n",
    "\n",
    "print(f'Train samples = {len(train_splice)}')\n",
    "print(f'Val samples = {len(val_splice)}')\n",
    "print(f'Test samples = {len(test_splice)}')\n",
    "print(\n",
    "    f\"\"\"Split: {np.round(len(train_splice)/(len(train_splice)+len(val_splice)+len(test_splice)),2)*100} %train,\n",
    "      {np.round(len(val_splice)/(len(train_splice)+len(val_splice)+len(test_splice)),2)*100} %val,\n",
    "      {np.round(len(test_splice)/(len(train_splice)+len(val_splice)+len(test_splice)),2)*100} %test\n",
    "      \"\"\")"
   ]
  },
  {
   "cell_type": "code",
   "execution_count": 623,
   "id": "d3a29e7b",
   "metadata": {},
   "outputs": [],
   "source": [
    "#Instantiate dataset objects for train, test and val\n",
    "train_dataset = episplice_dataset(id_ord = train_splice.index.values, splice=train_splice['CPM'], \n",
    "                                  mcg=train_mcg, mch=train_mch, \n",
    "                                  atac=train_atac, pos_enc = (train_mcg.columns.values).astype(float), \n",
    "                                  mode='binned')\n",
    "\n",
    "val_dataset = episplice_dataset(id_ord = val_splice.index.values, \n",
    "                                splice=val_splice['CPM'], mcg=val_mcg, mch=val_mch, \n",
    "                                atac=val_atac, pos_enc = (val_mcg.columns.values).astype(float), \n",
    "                                mode='binned')\n",
    "\n",
    "\n",
    "test_dataset = episplice_dataset(id_ord = test_splice.index.values,\n",
    "                                 splice=test_splice['CPM'], mcg=test_mcg, mch=test_mch, \n",
    "                                 atac=test_atac, pos_enc = (test_mcg.columns.values).astype(float), \n",
    "                                 mode='binned')\n"
   ]
  },
  {
   "cell_type": "code",
   "execution_count": 624,
   "id": "398ca106",
   "metadata": {},
   "outputs": [],
   "source": [
    "#DataLoader\n",
    "from torch.utils.data import DataLoader\n",
    "\n",
    "batch_size = 64\n",
    "\n",
    "\n",
    "train_loader = DataLoader(train_dataset, batch_size=batch_size, shuffle=True, num_workers=5, \n",
    "                          persistent_workers=True, drop_last=True)\n",
    "val_loader = DataLoader(train_dataset, batch_size=batch_size, shuffle=False, num_workers=5, \n",
    "                        persistent_workers=True, drop_last=False)\n",
    "test_loader = DataLoader(train_dataset, batch_size=batch_size, shuffle=False, num_workers=5, \n",
    "                         persistent_workers=True, drop_last=False)"
   ]
  },
  {
   "cell_type": "code",
   "execution_count": null,
   "id": "06737c2a",
   "metadata": {},
   "outputs": [],
   "source": [
    "# Initialise model\n",
    "model = episplice_MLP(input_dim=30, hidden_dim=64)  # Adjust input_dim and hidden_dim as necessary\n"
   ]
  },
  {
   "cell_type": "code",
   "execution_count": 592,
   "id": "a3af9510",
   "metadata": {},
   "outputs": [],
   "source": [
    "train_dataset = episplice_dataset(id_ord = train_splice.index.values, splice=train_splice['CPM'], \n",
    "                                  mcg=train_mcg, mch=train_mch, \n",
    "                                  atac=train_atac, pos_enc = (train_mcg.columns.values).astype(float), \n",
    "                                  mode='continuous')\n",
    "\n",
    "train_loader = DataLoader(train_dataset, batch_size=batch_size, shuffle=True, num_workers=5, \n",
    "                          persistent_workers=True, drop_last=True)"
   ]
  },
  {
   "cell_type": "code",
   "execution_count": 576,
   "id": "4c496266",
   "metadata": {},
   "outputs": [
    {
     "name": "stdout",
     "output_type": "stream",
     "text": [
      "Splice Index Tensor: tensor(0.3899)\n",
      "MCG Index Tensor: tensor([0.0039, 0.0031, 0.0088, 0.0087, 0.0094, 0.1500, 0.1797, 0.2247, 0.4562,\n",
      "        0.6842, 0.8950, 0.9153, 0.9269, 0.9325, 0.8996, 0.8996, 0.8943, 0.8868,\n",
      "        0.8965, 0.8806, 0.8401, 0.8528, 0.9036, 0.9036, 0.8993, 0.9043, 0.8941,\n",
      "        0.8917, 0.9242, 0.9206, 0.8629, 0.8629, 0.8578, 0.8716, 0.8476, 0.8390,\n",
      "        0.8515, 0.8763, 0.9158, 0.9228, 0.9228, 0.9248, 0.9246, 0.9130, 0.9076,\n",
      "        0.8781, 0.8626, 0.8597, 0.8717, 0.8891, 0.9218, 0.9004, 0.8919, 0.9107,\n",
      "        0.9025, 0.9093, 0.9108, 0.8944, 0.8730, 0.9308, 0.8645, 0.8706, 0.8890,\n",
      "        0.8867, 0.8758, 0.8758, 0.8933, 0.8952, 0.9536, 0.9527, 0.8532, 0.8277,\n",
      "        0.8462, 0.8462, 0.8426, 0.8251, 0.8001, 0.7761, 0.9099])\n",
      "MCH Index Tensor: tensor([0.0085, 0.0080, 0.0083, 0.0142, 0.0167, 0.0167, 0.0187, 0.0197, 0.0256,\n",
      "        0.0310, 0.0337, 0.0366, 0.0379, 0.0379, 0.0364, 0.0446, 0.0452, 0.0434,\n",
      "        0.0361, 0.0305, 0.0268, 0.0348, 0.0368, 0.0295, 0.0278, 0.0293, 0.0319,\n",
      "        0.0281, 0.0410, 0.0379, 0.0415, 0.0526, 0.1077, 0.1125, 0.1160, 0.1195,\n",
      "        0.1131, 0.1136, 0.1118, 0.0998, 0.0488, 0.0431, 0.0369, 0.0359, 0.0275,\n",
      "        0.0262, 0.0373, 0.0391, 0.0335, 0.0338, 0.0346, 0.0336, 0.0375, 0.0395,\n",
      "        0.0260, 0.0265, 0.0265, 0.0241, 0.0261, 0.0275, 0.0299, 0.0279, 0.0279,\n",
      "        0.0236, 0.0334, 0.0473, 0.0644, 0.0638, 0.0580, 0.0515, 0.0526, 0.0511,\n",
      "        0.0434, 0.0291, 0.0121, 0.0182, 0.0212, 0.0237, 0.0263])\n",
      "ATAC Index Tensor: tensor([2.6784, 2.3316, 1.4907, 1.0995, 0.7825, 0.4305, 0.2104, 0.1321, 0.0737,\n",
      "        0.0516, 0.0374, 0.0323, 0.0333, 0.0304, 0.0282, 0.0282, 0.0282, 0.0332,\n",
      "        0.0317, 0.0300, 0.0292, 0.0339, 0.0391, 0.0427, 0.0472, 0.0471, 0.0500,\n",
      "        0.0503, 0.0504, 0.0482, 0.0507, 0.0489, 0.0449, 0.0405, 0.0380, 0.0358,\n",
      "        0.0335, 0.0314, 0.0257, 0.0221, 0.0221, 0.0221, 0.0237, 0.0259, 0.0270,\n",
      "        0.0295, 0.0309, 0.0331, 0.0354, 0.0372, 0.0346, 0.0324, 0.0302, 0.0255,\n",
      "        0.0218, 0.0207, 0.0192, 0.0178, 0.0206, 0.0216, 0.0231, 0.0245, 0.0264,\n",
      "        0.0253, 0.0231, 0.0213, 0.0188, 0.0167, 0.0156, 0.0154, 0.0164, 0.0189,\n",
      "        0.0185, 0.0209, 0.0212, 0.0224, 0.0220, 0.0219, 0.0216])\n",
      "Positional Encoding: tensor([-39., -38., -37., -36., -35., -34., -33., -32., -31., -30., -29., -28.,\n",
      "        -27., -26., -25., -24., -23., -22., -21., -20., -19., -18., -17., -16.,\n",
      "        -15., -14., -13., -12., -11., -10.,  -9.,  -8.,  -7.,  -6.,  -5.,  -4.,\n",
      "         -3.,  -2.,  -1.,   0.,   1.,   2.,   3.,   4.,   5.,   6.,   7.,   8.,\n",
      "          9.,  10.,  11.,  12.,  13.,  14.,  15.,  16.,  17.,  18.,  19.,  20.,\n",
      "         21.,  22.,  23.,  24.,  25.,  26.,  27.,  28.,  29.,  30.,  31.,  32.,\n",
      "         33.,  34.,  35.,  36.,  37.,  38.,  39.])\n",
      "L2-3_ITchr11003988010045075+acceptor\n"
     ]
    }
   ],
   "source": [
    "# Fetch a single data point \n",
    "index_to_check = 54\n",
    "data_point = train_dataset.__getitem__(index_to_check)\n",
    "\n",
    "# Assuming your __getitem__ returns a tuple of tensors, you might need to process it accordingly\n",
    "splice_idx, seq_idx, mcg_idx, mch_idx, atac_idx, pos_enc_idx, unq = data_point\n",
    "\n",
    "print(\"Splice Index Tensor:\", splice_idx)\n",
    "print(\"MCG Index Tensor:\", mcg_idx)\n",
    "print(\"MCH Index Tensor:\", mch_idx)\n",
    "print(\"ATAC Index Tensor:\", atac_idx)\n",
    "print(\"Positional Encoding:\", pos_enc_idx)\n",
    "print(unq)"
   ]
  },
  {
   "cell_type": "code",
   "execution_count": null,
   "id": "9c70e6d8",
   "metadata": {},
   "outputs": [],
   "source": [
    "# Fetch a single data point \n",
    "index_to_check = 10\n",
    "data_point = train_dataset.__getitem__(index_to_check)\n",
    "\n",
    "# Assuming your __getitem__ returns a tuple of tensors, you might need to process it accordingly\n",
    "splice_idx, vec ,unq = data_point\n",
    "\n",
    "# Add any additional print/debug statements as necessary\n"
   ]
  },
  {
   "cell_type": "code",
   "execution_count": 568,
   "id": "582cc074",
   "metadata": {},
   "outputs": [
    {
     "data": {
      "text/plain": [
       "[<matplotlib.lines.Line2D at 0x7f00101cad30>]"
      ]
     },
     "execution_count": 568,
     "metadata": {},
     "output_type": "execute_result"
    },
    {
     "data": {
      "image/png": "[encoded data removed]",
      "text/plain": [
       "<Figure size 432x288 with 1 Axes>"
      ]
     },
     "metadata": {
      "needs_background": "light"
     },
     "output_type": "display_data"
    }
   ],
   "source": [
    "plt.plot(vec)"
   ]
  },
  {
   "cell_type": "code",
   "execution_count": 580,
   "id": "dfcbaeee",
   "metadata": {},
   "outputs": [
    {
     "data": {
      "text/plain": [
       "<torch.utils.data.dataloader.DataLoader at 0x7efdbca0ac40>"
      ]
     },
     "execution_count": 580,
     "metadata": {},
     "output_type": "execute_result"
    }
   ],
   "source": [
    "train_loader"
   ]
  },
  {
   "cell_type": "code",
   "execution_count": 606,
   "id": "0b44431c",
   "metadata": {},
   "outputs": [],
   "source": [
    "# Fetch a few batches and inspect them\n",
    "for i, batch in enumerate(train_loader):\n",
    "    splice_idx,seq_idx, mcg_idx, mch_idx, atac_idx, pos_enc_idx, unique_id= batch\n",
    "#     print(f\"Batch {i} - Features Shape: {features.shape}, Labels Shape: {labels.shape}\")\n",
    "    \n",
    "    if i == 5:  # Inspect just the first 2 batches\n",
    "        break\n"
   ]
  },
  {
   "cell_type": "code",
   "execution_count": 607,
   "id": "257be864",
   "metadata": {},
   "outputs": [
    {
     "data": {
      "text/plain": [
       "tensor([2.5680e-01, 1.3869e-01, 3.0607e-02, 6.0794e-02, 3.1553e-01, 3.3747e-02,\n",
       "        9.1117e-03, 4.3034e-01, 1.5751e-01, 2.2951e-01, 3.7013e-03, 7.9305e-03,\n",
       "        1.5165e-01, 3.0542e-01, 1.5901e-01, 1.2196e-02, 3.8116e-01, 1.1386e-02,\n",
       "        4.3717e-02, 4.8173e-03, 9.7786e+00, 8.6396e-01, 1.9726e-03, 1.2481e-01,\n",
       "        6.8410e-01, 2.2335e-02, 3.5080e-01, 2.5282e-01, 1.8255e-01, 4.9181e-02,\n",
       "        2.2363e-01, 1.1649e-01, 8.8117e-02, 1.3259e+00, 8.8436e-02, 2.3647e-03,\n",
       "        4.5073e-01, 1.0635e+00, 1.8641e-01, 1.2350e-01, 6.5691e-03, 1.1504e-02,\n",
       "        7.9396e-02, 1.3808e-01, 7.4751e-03, 7.8685e-03, 1.2196e-02, 1.6767e-02,\n",
       "        1.1817e-01, 1.3437e-02, 2.7392e-01, 4.0240e-01, 2.3307e+00, 3.5554e-01,\n",
       "        5.6239e-02, 4.5538e-02, 6.7746e-02, 1.7077e-01, 2.7024e+00, 3.0372e-03,\n",
       "        3.9698e-03, 8.2117e-02, 6.2697e-01, 7.9396e-03])"
      ]
     },
     "execution_count": 607,
     "metadata": {},
     "output_type": "execute_result"
    }
   ],
   "source": [
    "splice_idx"
   ]
  },
  {
   "cell_type": "code",
   "execution_count": 608,
   "id": "bd28dcde",
   "metadata": {},
   "outputs": [
    {
     "data": {
      "text/plain": [
       "id-unique\n",
       "Pvalbchr1167361592167361803+donor       0.256802\n",
       "Sstchr1120166173120188040+acceptor      0.138688\n",
       "Pvalbchr1158580362158597156+donor       0.030607\n",
       "L6bchr1133726564133727722-donor         0.060794\n",
       "L5_ITchr14399136043992263+donor         0.315535\n",
       "                                          ...   \n",
       "L6_CTchr14378017043827614-acceptor      0.003037\n",
       "Lamp5chr1193184605193184793-donor       0.003970\n",
       "Pvalbchr16489289864921549-acceptor      0.082117\n",
       "Sstchr17526214175262322-acceptor        0.626973\n",
       "Lamp5chr1153250524153250611-acceptor    0.007940\n",
       "Name: CPM, Length: 64, dtype: float64"
      ]
     },
     "execution_count": 608,
     "metadata": {},
     "output_type": "execute_result"
    }
   ],
   "source": [
    "train_splice.loc[np.asarray(unique_id)]['CPM']"
   ]
  },
  {
   "cell_type": "code",
   "execution_count": 613,
   "id": "fbc31293",
   "metadata": {},
   "outputs": [
    {
     "data": {
      "text/plain": [
       "tensor([[1.8838e-02, 1.8838e-02, 2.0632e-02,  ..., 1.6416e-01, 1.4173e-01,\n",
       "         1.0495e-01],\n",
       "        [4.6716e-15, 4.6716e-15, 5.1542e-03,  ..., 9.3491e-03, 1.2465e-02,\n",
       "         1.5582e-02],\n",
       "        [5.2028e-02, 6.9072e-02, 9.8675e-02,  ..., 0.0000e+00, 0.0000e+00,\n",
       "         0.0000e+00],\n",
       "        ...,\n",
       "        [1.0764e-02, 9.8675e-03, 8.9704e-03,  ..., 3.2293e-02, 3.2293e-02,\n",
       "         3.1396e-02],\n",
       "        [1.8698e-02, 2.1814e-02, 2.4931e-02,  ..., 8.1747e-02, 9.3133e-02,\n",
       "         9.3133e-02],\n",
       "        [2.7326e-02, 2.8097e-02, 3.2779e-02,  ..., 3.5981e-02, 4.3806e-02,\n",
       "         4.7718e-02]])"
      ]
     },
     "execution_count": 613,
     "metadata": {},
     "output_type": "execute_result"
    }
   ],
   "source": [
    "atac_idx"
   ]
  },
  {
   "cell_type": "code",
   "execution_count": 616,
   "id": "927147de",
   "metadata": {},
   "outputs": [
    {
     "data": {
      "text/html": [
       "<div>\n",
       "<style scoped>\n",
       "    .dataframe tbody tr th:only-of-type {\n",
       "        vertical-align: middle;\n",
       "    }\n",
       "\n",
       "    .dataframe tbody tr th {\n",
       "        vertical-align: top;\n",
       "    }\n",
       "\n",
       "    .dataframe thead th {\n",
       "        text-align: right;\n",
       "    }\n",
       "</style>\n",
       "<table border=\"1\" class=\"dataframe\">\n",
       "  <thead>\n",
       "    <tr style=\"text-align: right;\">\n",
       "      <th></th>\n",
       "      <th>-39.0</th>\n",
       "      <th>-38.0</th>\n",
       "      <th>-37.0</th>\n",
       "      <th>-36.0</th>\n",
       "      <th>-35.0</th>\n",
       "      <th>-34.0</th>\n",
       "      <th>-33.0</th>\n",
       "      <th>-32.0</th>\n",
       "      <th>-31.0</th>\n",
       "      <th>-30.0</th>\n",
       "      <th>...</th>\n",
       "      <th>30.0</th>\n",
       "      <th>31.0</th>\n",
       "      <th>32.0</th>\n",
       "      <th>33.0</th>\n",
       "      <th>34.0</th>\n",
       "      <th>35.0</th>\n",
       "      <th>36.0</th>\n",
       "      <th>37.0</th>\n",
       "      <th>38.0</th>\n",
       "      <th>39.0</th>\n",
       "    </tr>\n",
       "  </thead>\n",
       "  <tbody>\n",
       "    <tr>\n",
       "      <th>Pvalbchr1167361592167361803+donor</th>\n",
       "      <td>0.082281</td>\n",
       "      <td>0.078881</td>\n",
       "      <td>0.084612</td>\n",
       "      <td>0.078438</td>\n",
       "      <td>0.116450</td>\n",
       "      <td>0.083858</td>\n",
       "      <td>0.099779</td>\n",
       "      <td>0.100879</td>\n",
       "      <td>0.112308</td>\n",
       "      <td>0.108521</td>\n",
       "      <td>...</td>\n",
       "      <td>0.143262</td>\n",
       "      <td>0.141996</td>\n",
       "      <td>0.142212</td>\n",
       "      <td>0.140329</td>\n",
       "      <td>0.136567</td>\n",
       "      <td>0.133946</td>\n",
       "      <td>0.132558</td>\n",
       "      <td>0.129396</td>\n",
       "      <td>0.129017</td>\n",
       "      <td>0.129400</td>\n",
       "    </tr>\n",
       "    <tr>\n",
       "      <th>Sstchr1120166173120188040+acceptor</th>\n",
       "      <td>0.211172</td>\n",
       "      <td>0.158185</td>\n",
       "      <td>0.224213</td>\n",
       "      <td>0.248707</td>\n",
       "      <td>0.275351</td>\n",
       "      <td>0.314171</td>\n",
       "      <td>0.339845</td>\n",
       "      <td>0.405580</td>\n",
       "      <td>0.443820</td>\n",
       "      <td>0.527294</td>\n",
       "      <td>...</td>\n",
       "      <td>0.085143</td>\n",
       "      <td>0.092257</td>\n",
       "      <td>0.115050</td>\n",
       "      <td>0.131250</td>\n",
       "      <td>0.131893</td>\n",
       "      <td>0.132964</td>\n",
       "      <td>0.128729</td>\n",
       "      <td>0.168987</td>\n",
       "      <td>0.188619</td>\n",
       "      <td>0.180144</td>\n",
       "    </tr>\n",
       "    <tr>\n",
       "      <th>Pvalbchr1158580362158597156+donor</th>\n",
       "      <td>0.054986</td>\n",
       "      <td>0.047171</td>\n",
       "      <td>0.042286</td>\n",
       "      <td>0.037000</td>\n",
       "      <td>0.034638</td>\n",
       "      <td>0.034638</td>\n",
       "      <td>0.010600</td>\n",
       "      <td>0.010457</td>\n",
       "      <td>0.005843</td>\n",
       "      <td>0.001757</td>\n",
       "      <td>...</td>\n",
       "      <td>0.119050</td>\n",
       "      <td>0.118320</td>\n",
       "      <td>0.098600</td>\n",
       "      <td>0.095500</td>\n",
       "      <td>0.095500</td>\n",
       "      <td>0.115343</td>\n",
       "      <td>0.126633</td>\n",
       "      <td>0.066133</td>\n",
       "      <td>0.061786</td>\n",
       "      <td>0.052850</td>\n",
       "    </tr>\n",
       "    <tr>\n",
       "      <th>L6bchr1133726564133727722-donor</th>\n",
       "      <td>0.071647</td>\n",
       "      <td>0.080053</td>\n",
       "      <td>0.072195</td>\n",
       "      <td>0.066517</td>\n",
       "      <td>0.057717</td>\n",
       "      <td>0.035848</td>\n",
       "      <td>0.042491</td>\n",
       "      <td>0.025940</td>\n",
       "      <td>0.021254</td>\n",
       "      <td>0.009520</td>\n",
       "      <td>...</td>\n",
       "      <td>0.061673</td>\n",
       "      <td>0.072783</td>\n",
       "      <td>0.091835</td>\n",
       "      <td>0.057303</td>\n",
       "      <td>0.048117</td>\n",
       "      <td>0.068125</td>\n",
       "      <td>0.105988</td>\n",
       "      <td>0.105988</td>\n",
       "      <td>0.081748</td>\n",
       "      <td>0.076888</td>\n",
       "    </tr>\n",
       "    <tr>\n",
       "      <th>L5_ITchr14399136043992263+donor</th>\n",
       "      <td>0.022289</td>\n",
       "      <td>0.027319</td>\n",
       "      <td>0.023336</td>\n",
       "      <td>0.024493</td>\n",
       "      <td>0.025231</td>\n",
       "      <td>0.029995</td>\n",
       "      <td>0.029691</td>\n",
       "      <td>0.030491</td>\n",
       "      <td>0.041921</td>\n",
       "      <td>0.035490</td>\n",
       "      <td>...</td>\n",
       "      <td>0.013815</td>\n",
       "      <td>0.014202</td>\n",
       "      <td>0.015267</td>\n",
       "      <td>0.015214</td>\n",
       "      <td>0.012610</td>\n",
       "      <td>0.009338</td>\n",
       "      <td>0.008714</td>\n",
       "      <td>0.009319</td>\n",
       "      <td>0.009319</td>\n",
       "      <td>0.007622</td>\n",
       "    </tr>\n",
       "    <tr>\n",
       "      <th>...</th>\n",
       "      <td>...</td>\n",
       "      <td>...</td>\n",
       "      <td>...</td>\n",
       "      <td>...</td>\n",
       "      <td>...</td>\n",
       "      <td>...</td>\n",
       "      <td>...</td>\n",
       "      <td>...</td>\n",
       "      <td>...</td>\n",
       "      <td>...</td>\n",
       "      <td>...</td>\n",
       "      <td>...</td>\n",
       "      <td>...</td>\n",
       "      <td>...</td>\n",
       "      <td>...</td>\n",
       "      <td>...</td>\n",
       "      <td>...</td>\n",
       "      <td>...</td>\n",
       "      <td>...</td>\n",
       "      <td>...</td>\n",
       "      <td>...</td>\n",
       "    </tr>\n",
       "    <tr>\n",
       "      <th>L6_CTchr14378017043827614-acceptor</th>\n",
       "      <td>0.073829</td>\n",
       "      <td>0.072333</td>\n",
       "      <td>0.072050</td>\n",
       "      <td>0.069500</td>\n",
       "      <td>0.059367</td>\n",
       "      <td>0.052363</td>\n",
       "      <td>0.055138</td>\n",
       "      <td>0.043454</td>\n",
       "      <td>0.034371</td>\n",
       "      <td>0.040929</td>\n",
       "      <td>...</td>\n",
       "      <td>0.050825</td>\n",
       "      <td>0.056413</td>\n",
       "      <td>0.051563</td>\n",
       "      <td>0.049196</td>\n",
       "      <td>0.065100</td>\n",
       "      <td>0.083425</td>\n",
       "      <td>0.089758</td>\n",
       "      <td>0.091100</td>\n",
       "      <td>0.101017</td>\n",
       "      <td>0.097288</td>\n",
       "    </tr>\n",
       "    <tr>\n",
       "      <th>Lamp5chr1193184605193184793-donor</th>\n",
       "      <td>0.014619</td>\n",
       "      <td>0.007225</td>\n",
       "      <td>0.009588</td>\n",
       "      <td>0.016617</td>\n",
       "      <td>0.038442</td>\n",
       "      <td>0.056683</td>\n",
       "      <td>0.056033</td>\n",
       "      <td>0.063142</td>\n",
       "      <td>0.080504</td>\n",
       "      <td>0.135144</td>\n",
       "      <td>...</td>\n",
       "      <td>0.073513</td>\n",
       "      <td>0.079963</td>\n",
       "      <td>0.089650</td>\n",
       "      <td>0.092988</td>\n",
       "      <td>0.087381</td>\n",
       "      <td>0.086791</td>\n",
       "      <td>0.078428</td>\n",
       "      <td>0.090357</td>\n",
       "      <td>0.084916</td>\n",
       "      <td>0.070302</td>\n",
       "    </tr>\n",
       "    <tr>\n",
       "      <th>Pvalbchr16489289864921549-acceptor</th>\n",
       "      <td>0.241012</td>\n",
       "      <td>0.340200</td>\n",
       "      <td>0.325256</td>\n",
       "      <td>0.322606</td>\n",
       "      <td>0.308050</td>\n",
       "      <td>0.306225</td>\n",
       "      <td>0.308981</td>\n",
       "      <td>0.299681</td>\n",
       "      <td>0.245713</td>\n",
       "      <td>0.189425</td>\n",
       "      <td>...</td>\n",
       "      <td>0.139904</td>\n",
       "      <td>0.160738</td>\n",
       "      <td>0.136604</td>\n",
       "      <td>0.134867</td>\n",
       "      <td>0.133246</td>\n",
       "      <td>0.135383</td>\n",
       "      <td>0.133688</td>\n",
       "      <td>0.032119</td>\n",
       "      <td>0.049487</td>\n",
       "      <td>0.051912</td>\n",
       "    </tr>\n",
       "    <tr>\n",
       "      <th>Sstchr17526214175262322-acceptor</th>\n",
       "      <td>0.107607</td>\n",
       "      <td>0.111064</td>\n",
       "      <td>0.147929</td>\n",
       "      <td>0.149386</td>\n",
       "      <td>0.130043</td>\n",
       "      <td>0.147644</td>\n",
       "      <td>0.168736</td>\n",
       "      <td>0.175502</td>\n",
       "      <td>0.186132</td>\n",
       "      <td>0.157989</td>\n",
       "      <td>...</td>\n",
       "      <td>0.044875</td>\n",
       "      <td>0.043875</td>\n",
       "      <td>0.051738</td>\n",
       "      <td>0.064656</td>\n",
       "      <td>0.064344</td>\n",
       "      <td>0.067564</td>\n",
       "      <td>0.077300</td>\n",
       "      <td>0.081936</td>\n",
       "      <td>0.090383</td>\n",
       "      <td>0.097930</td>\n",
       "    </tr>\n",
       "    <tr>\n",
       "      <th>Lamp5chr1153250524153250611-acceptor</th>\n",
       "      <td>0.030029</td>\n",
       "      <td>0.028624</td>\n",
       "      <td>0.032388</td>\n",
       "      <td>0.028521</td>\n",
       "      <td>0.026104</td>\n",
       "      <td>0.024200</td>\n",
       "      <td>0.029792</td>\n",
       "      <td>0.028333</td>\n",
       "      <td>0.035162</td>\n",
       "      <td>0.033986</td>\n",
       "      <td>...</td>\n",
       "      <td>0.044788</td>\n",
       "      <td>0.039787</td>\n",
       "      <td>0.048411</td>\n",
       "      <td>0.053238</td>\n",
       "      <td>0.045463</td>\n",
       "      <td>0.051681</td>\n",
       "      <td>0.055812</td>\n",
       "      <td>0.046200</td>\n",
       "      <td>0.060931</td>\n",
       "      <td>0.055725</td>\n",
       "    </tr>\n",
       "  </tbody>\n",
       "</table>\n",
       "<p>64 rows × 79 columns</p>\n",
       "</div>"
      ],
      "text/plain": [
       "                                         -39.0     -38.0     -37.0     -36.0  \\\n",
       "Pvalbchr1167361592167361803+donor     0.082281  0.078881  0.084612  0.078438   \n",
       "Sstchr1120166173120188040+acceptor    0.211172  0.158185  0.224213  0.248707   \n",
       "Pvalbchr1158580362158597156+donor     0.054986  0.047171  0.042286  0.037000   \n",
       "L6bchr1133726564133727722-donor       0.071647  0.080053  0.072195  0.066517   \n",
       "L5_ITchr14399136043992263+donor       0.022289  0.027319  0.023336  0.024493   \n",
       "...                                        ...       ...       ...       ...   \n",
       "L6_CTchr14378017043827614-acceptor    0.073829  0.072333  0.072050  0.069500   \n",
       "Lamp5chr1193184605193184793-donor     0.014619  0.007225  0.009588  0.016617   \n",
       "Pvalbchr16489289864921549-acceptor    0.241012  0.340200  0.325256  0.322606   \n",
       "Sstchr17526214175262322-acceptor      0.107607  0.111064  0.147929  0.149386   \n",
       "Lamp5chr1153250524153250611-acceptor  0.030029  0.028624  0.032388  0.028521   \n",
       "\n",
       "                                         -35.0     -34.0     -33.0     -32.0  \\\n",
       "Pvalbchr1167361592167361803+donor     0.116450  0.083858  0.099779  0.100879   \n",
       "Sstchr1120166173120188040+acceptor    0.275351  0.314171  0.339845  0.405580   \n",
       "Pvalbchr1158580362158597156+donor     0.034638  0.034638  0.010600  0.010457   \n",
       "L6bchr1133726564133727722-donor       0.057717  0.035848  0.042491  0.025940   \n",
       "L5_ITchr14399136043992263+donor       0.025231  0.029995  0.029691  0.030491   \n",
       "...                                        ...       ...       ...       ...   \n",
       "L6_CTchr14378017043827614-acceptor    0.059367  0.052363  0.055138  0.043454   \n",
       "Lamp5chr1193184605193184793-donor     0.038442  0.056683  0.056033  0.063142   \n",
       "Pvalbchr16489289864921549-acceptor    0.308050  0.306225  0.308981  0.299681   \n",
       "Sstchr17526214175262322-acceptor      0.130043  0.147644  0.168736  0.175502   \n",
       "Lamp5chr1153250524153250611-acceptor  0.026104  0.024200  0.029792  0.028333   \n",
       "\n",
       "                                         -31.0     -30.0  ...      30.0  \\\n",
       "Pvalbchr1167361592167361803+donor     0.112308  0.108521  ...  0.143262   \n",
       "Sstchr1120166173120188040+acceptor    0.443820  0.527294  ...  0.085143   \n",
       "Pvalbchr1158580362158597156+donor     0.005843  0.001757  ...  0.119050   \n",
       "L6bchr1133726564133727722-donor       0.021254  0.009520  ...  0.061673   \n",
       "L5_ITchr14399136043992263+donor       0.041921  0.035490  ...  0.013815   \n",
       "...                                        ...       ...  ...       ...   \n",
       "L6_CTchr14378017043827614-acceptor    0.034371  0.040929  ...  0.050825   \n",
       "Lamp5chr1193184605193184793-donor     0.080504  0.135144  ...  0.073513   \n",
       "Pvalbchr16489289864921549-acceptor    0.245713  0.189425  ...  0.139904   \n",
       "Sstchr17526214175262322-acceptor      0.186132  0.157989  ...  0.044875   \n",
       "Lamp5chr1153250524153250611-acceptor  0.035162  0.033986  ...  0.044788   \n",
       "\n",
       "                                          31.0      32.0      33.0      34.0  \\\n",
       "Pvalbchr1167361592167361803+donor     0.141996  0.142212  0.140329  0.136567   \n",
       "Sstchr1120166173120188040+acceptor    0.092257  0.115050  0.131250  0.131893   \n",
       "Pvalbchr1158580362158597156+donor     0.118320  0.098600  0.095500  0.095500   \n",
       "L6bchr1133726564133727722-donor       0.072783  0.091835  0.057303  0.048117   \n",
       "L5_ITchr14399136043992263+donor       0.014202  0.015267  0.015214  0.012610   \n",
       "...                                        ...       ...       ...       ...   \n",
       "L6_CTchr14378017043827614-acceptor    0.056413  0.051563  0.049196  0.065100   \n",
       "Lamp5chr1193184605193184793-donor     0.079963  0.089650  0.092988  0.087381   \n",
       "Pvalbchr16489289864921549-acceptor    0.160738  0.136604  0.134867  0.133246   \n",
       "Sstchr17526214175262322-acceptor      0.043875  0.051738  0.064656  0.064344   \n",
       "Lamp5chr1153250524153250611-acceptor  0.039787  0.048411  0.053238  0.045463   \n",
       "\n",
       "                                          35.0      36.0      37.0      38.0  \\\n",
       "Pvalbchr1167361592167361803+donor     0.133946  0.132558  0.129396  0.129017   \n",
       "Sstchr1120166173120188040+acceptor    0.132964  0.128729  0.168987  0.188619   \n",
       "Pvalbchr1158580362158597156+donor     0.115343  0.126633  0.066133  0.061786   \n",
       "L6bchr1133726564133727722-donor       0.068125  0.105988  0.105988  0.081748   \n",
       "L5_ITchr14399136043992263+donor       0.009338  0.008714  0.009319  0.009319   \n",
       "...                                        ...       ...       ...       ...   \n",
       "L6_CTchr14378017043827614-acceptor    0.083425  0.089758  0.091100  0.101017   \n",
       "Lamp5chr1193184605193184793-donor     0.086791  0.078428  0.090357  0.084916   \n",
       "Pvalbchr16489289864921549-acceptor    0.135383  0.133688  0.032119  0.049487   \n",
       "Sstchr17526214175262322-acceptor      0.067564  0.077300  0.081936  0.090383   \n",
       "Lamp5chr1153250524153250611-acceptor  0.051681  0.055812  0.046200  0.060931   \n",
       "\n",
       "                                          39.0  \n",
       "Pvalbchr1167361592167361803+donor     0.129400  \n",
       "Sstchr1120166173120188040+acceptor    0.180144  \n",
       "Pvalbchr1158580362158597156+donor     0.052850  \n",
       "L6bchr1133726564133727722-donor       0.076888  \n",
       "L5_ITchr14399136043992263+donor       0.007622  \n",
       "...                                        ...  \n",
       "L6_CTchr14378017043827614-acceptor    0.097288  \n",
       "Lamp5chr1193184605193184793-donor     0.070302  \n",
       "Pvalbchr16489289864921549-acceptor    0.051912  \n",
       "Sstchr17526214175262322-acceptor      0.097930  \n",
       "Lamp5chr1153250524153250611-acceptor  0.055725  \n",
       "\n",
       "[64 rows x 79 columns]"
      ]
     },
     "execution_count": 616,
     "metadata": {},
     "output_type": "execute_result"
    }
   ],
   "source": [
    "train_mch.loc[np.asarray(unique_id)]"
   ]
  },
  {
   "cell_type": "code",
   "execution_count": 591,
   "id": "2652bd96",
   "metadata": {},
   "outputs": [],
   "source": [
    "class episplice_dataset(Dataset):\n",
    "    \"\"\"Dataset class for Pytorch Lightning neural network models. Epi datasets will be loaded as continuous traces. \n",
    "\n",
    "    Datatypes:\n",
    "        id_ord (array): array of unique ids in order to be used for indexing\n",
    "        splice (dataframe): all SJ usage values, indexed by unique SJ id.\n",
    "        seq ???\n",
    "        mcg (dataframe): all binned mcg values containing flanking context of SJ, indexed by unique SJ id. Bin labels in columns must match mcg and atac, and be the same across all SJs. \n",
    "        mch (dataframe): all binned mch values containing flanking context of SJ, indexed by unique SJ id. \n",
    "        atac (dataframe): all binned atac values containing flanking context of SJ, indexed by unique SJ id. \n",
    "        pos_enc (array): labels of positional encodings for flanking epi bins.  \n",
    "        mode (str): 'continuous' for loading continous epi traces, 'binned' for loading mean binned values for epi traces (used for MLP baseline) \n",
    "\n",
    "    \"\"\"\n",
    "\n",
    "    def __init__(self,id_ord, splice=None, seq = None, mcg=None, mch=None, atac=None, pos_enc=None, mode='continuous'):\n",
    "        \"\"\" Initialise epigenetic splice dataset \"\"\"\n",
    "        self.id_ord = id_ord\n",
    "        self.splice = splice\n",
    "        self.seq = seq\n",
    "        self.mcg = mcg\n",
    "        self.mch = mch\n",
    "        self.atac = atac\n",
    "        self.pos_enc = pos_enc\n",
    "        self.mode = mode\n",
    "        if seq is None and mcg is None and mch is None and atac is None: \n",
    "            raise Exception('At least one datatype must be entered to make predictions')\n",
    "            \n",
    "        if mode != 'continuous' and mode != 'binned':\n",
    "            raise Exception('Mode must be either continuous or binned')\n",
    "            \n",
    "        \n",
    "    def __len__(self):\n",
    "        \"\"\" Return length of dataset \"\"\"\n",
    "        return len(self.splice)\n",
    "    \n",
    "    def __getitem__(self,idx):\n",
    "        \"\"\" Return splice, seq, mcg, mch, atac at index \"\"\"\n",
    "        splice_idx, seq_idx, mcg_idx, mch_idx, atac_idx,pos_enc_idx = torch.zeros((0,)), torch.zeros((0,)),torch.zeros((0,)) ,torch.zeros((0,)) ,torch.zeros((0,)) ,torch.zeros((0,)) \n",
    "        \n",
    "        #use splice data to get the current id\n",
    "        unique_id = self.id_ord[idx]\n",
    "        \n",
    "        #access SJ usage and convert to tensor\n",
    "        if self.splice is not None: splice_idx = torch.tensor(self.splice.loc[unique_id], dtype=torch.float32)\n",
    "        \n",
    "        #output each feature separately\n",
    "        if self.mode == 'continuous':\n",
    "            #slice and convert to tensor\n",
    "            if self.seq is not None: seq_idx = None #TBD\n",
    "            if self.mcg is not None: mcg_idx = torch.tensor(self.mcg.loc[unique_id].values, dtype=torch.float32)\n",
    "            if self.mch is not None: mch_idx = torch.tensor(self.mch.loc[unique_id].values, dtype=torch.float32)\n",
    "            if self.atac is not None: atac_idx = torch.tensor(self.atac.loc[unique_id].values, dtype=torch.float32)\n",
    "            if self.pos_enc is not None: pos_enc_idx = torch.tensor(self.pos_enc, dtype=torch.float32)\n",
    "\n",
    "            return(splice_idx,seq_idx, mcg_idx, mch_idx, atac_idx, pos_enc_idx, unique_id)\n",
    "        \n",
    "        #output single vector for MLP\n",
    "        if self.mode == 'binned':\n",
    "            if mcg is None or mch is None or atac is None: \n",
    "                raise Exception('All epi data (mcg, mch, atac) required for binned Dataset class')\n",
    "            \n",
    "            nbins=10\n",
    "            nbins-=1\n",
    "            it = np.append([(len(self.mcg.loc[unique_id].values)//nbins)*i for i in range(nbins+1)], len(self.mcg.loc[unique_id].values)) #split indeces by 10\n",
    "            mcg_idx = [np.mean(self.mcg.loc[unique_id].values[it[i]:it[i+1]]) for i in range(len(it)-1)]\n",
    "            mch_idx = [np.mean(self.mch.loc[unique_id].values[it[i]:it[i+1]]) for i in range(len(it)-1)]\n",
    "            atac_idx = [np.mean(self.atac.loc[unique_id].values[it[i]:it[i+1]]) for i in range(len(it)-1)]\n",
    "            return(splice_idx, torch.tensor(mcg_idx + mch_idx + atac_idx, dtype=torch.float32), unique_id)\n",
    "                \n",
    "        "
   ]
  },
  {
   "cell_type": "code",
   "execution_count": 619,
   "id": "b537dae7",
   "metadata": {},
   "outputs": [],
   "source": [
    "import pytorch_lightning as pl\n",
    "import torch\n",
    "import torch.nn.functional as F\n",
    "from torch import nn\n",
    "\n",
    "class episplice_MLP(pl.LightningModule):\n",
    "    def __init__(self, input_dim, hidden_dim):\n",
    "        super(episplice_MLP, self).__init__()\n",
    "        # Define the architecture\n",
    "        self.layer1 = nn.Linear(input_dim, hidden_dim)\n",
    "        self.layer2 = nn.Linear(hidden_dim, hidden_dim)  # Additional hidden layer for complexity\n",
    "        self.output_layer = nn.Linear(hidden_dim, 1)  # Output layer to produce a single value\n",
    "\n",
    "    def forward(self, x):\n",
    "        # Forward pass through the network\n",
    "        x = F.relu(self.layer1(x))\n",
    "        x = F.relu(self.layer2(x))\n",
    "        x = self.output_layer(x)  # No activation here, assuming a regression task\n",
    "        return x\n",
    "\n",
    "    def training_step(self, batch, batch_idx):\n",
    "        # Unpack the batch\n",
    "        features, labels = batch\n",
    "        # Forward pass\n",
    "        predictions = self(features)\n",
    "        # Compute loss (assuming labels are a single value per example)\n",
    "        loss = F.mse_loss(predictions.squeeze(), labels)  # Squeeze to ensure matching dimensions\n",
    "        # Log the training loss\n",
    "        self.log('train_loss', loss)\n",
    "        return loss\n",
    "\n",
    "    def validation_step(self, batch, batch_idx):\n",
    "        features, labels = batch\n",
    "        predictions = self(features)\n",
    "        loss = F.mse_loss(predictions.squeeze(), labels)\n",
    "        self.log('val_loss', loss)\n",
    "\n",
    "    def configure_optimizers(self):\n",
    "        # Configure the optimizer\n",
    "        optimizer = torch.optim.Adam(self.parameters(), lr=1e-3)\n",
    "        return optimizer\n"
   ]
  },
  {
   "cell_type": "code",
   "execution_count": null,
   "id": "99438644",
   "metadata": {},
   "outputs": [],
   "source": [
    "from pytorch_lightning import Trainer\n",
    "\n",
    "# Initialize a Trainer\n",
    "trainer = Trainer(max_epochs=10, gpus=1)  # Adjust according to your needs; remove gpus=1 if not using a GPU\n"
   ]
  },
  {
   "cell_type": "code",
   "execution_count": null,
   "id": "25ba2fb0",
   "metadata": {},
   "outputs": [],
   "source": [
    "from pytorch_lightning import Trainer\n",
    "\n",
    "model = EpiSpliceModel(input_dim=..., hidden_dim=..., output_dim=...)\n",
    "trainer = Trainer(max_epochs=10)\n",
    "\n",
    "trainer.fit(model, train_loader, val_loader)\n"
   ]
  },
  {
   "cell_type": "code",
   "execution_count": null,
   "id": "8513803d",
   "metadata": {},
   "outputs": [],
   "source": [
    "#specific architecture -> learn about MLP\n",
    "\n",
    "#32 -> 32 -> 16 -> 1\n",
    "# multiple of 8? why? "
   ]
  },
  {
   "cell_type": "code",
   "execution_count": null,
   "id": "8bafe4de",
   "metadata": {},
   "outputs": [],
   "source": [
    "#training etc. run\n",
    "\n",
    "#train,test,val\n",
    "# batch, test , use val to look at performance at each step, \n",
    "# if overfitting early on, too many units, and vice versa "
   ]
  },
  {
   "cell_type": "code",
   "execution_count": null,
   "id": "86bcafa5",
   "metadata": {},
   "outputs": [],
   "source": [
    "\"\"\"Dataset and DataLoader classes for Pytorch Lightning neural network models.\n",
    "\n",
    "Dataset types:\n",
    "\n",
    "- TabularDataset: for tabular data. Converts two pandas DataFrames (X and y)\n",
    "\t  to a Pytorch Dataset. Indices are used to match X and y.\n",
    "\n",
    "- CoordScalingTabularDataset: for tabular data with coordinate scaling. All\n",
    "\tcolumns that contain 'coord' in the name will be scaled by a factor of\n",
    "\t100,000 (e.g. 600,000 becomes 6). This is useful for scaling the east\n",
    "\tand north coordinates in the UKBB dataset which range from about 0 to\n",
    "\t1.2 million.\n",
    "\"\"\"\n",
    "\n",
    "\n",
    "\n",
    "\n",
    "class TabularDataset(Dataset):\n",
    "\t\"\"\"Tabular dataset for Pytorch neural network models.\n",
    "\n",
    "\tArgs:\n",
    "\t\tX: pandas DataFrame, features\n",
    "\t\ty: pandas Series, target\n",
    "\t\"\"\"\n",
    "\n",
    "\tdef __init__(self, X, y=None):\n",
    "\t\t\"\"\"Initialize tabular dataset.\"\"\"\n",
    "\t\tself.X = X\n",
    "\t\tself.y = y\n",
    "\n",
    "\tdef __len__(self):\n",
    "\t\t\"\"\"Return length of dataset.\"\"\"\n",
    "\t\treturn len(self.X)\n",
    "\n",
    "\tdef __getitem__(self, idx):\n",
    "\t\t\"\"\"Return X and y at index.\"\"\"\n",
    "\t\tif self.y is not None:\n",
    "\t\t\treturn (\n",
    "\t\t\t\ttorch.tensor(self.X.iloc[idx].values, dtype=torch.float32), \n",
    "\t\t\t\ttorch.tensor(self.y.iloc[idx].values, dtype=torch.float32)\n",
    "\t\t\t)\n",
    "\t\telse:\n",
    "\t\t\treturn torch.tensor(self.X.iloc[idx].values, dtype=torch.float32)\n",
    "\t\t\n",
    "\n"
   ]
  },
  {
   "cell_type": "code",
   "execution_count": 3,
   "id": "74ba21a9",
   "metadata": {},
   "outputs": [
    {
     "name": "stdout",
     "output_type": "stream",
     "text": [
      "Requirement already satisfied: lightning in /home/dburrows/mambaforge/envs/pytorch1/lib/python3.9/site-packages (2.2.0.post0)\n",
      "Requirement already satisfied: lightning-utilities<2.0,>=0.8.0 in /home/dburrows/mambaforge/envs/pytorch1/lib/python3.9/site-packages (from lightning) (0.10.1)\n",
      "Requirement already satisfied: PyYAML<8.0,>=5.4 in /home/dburrows/mambaforge/envs/pytorch1/lib/python3.9/site-packages (from lightning) (6.0)\n",
      "Requirement already satisfied: packaging<25.0,>=20.0 in /home/dburrows/mambaforge/envs/pytorch1/lib/python3.9/site-packages (from lightning) (21.3)\n",
      "Requirement already satisfied: torch<4.0,>=1.13.0 in /home/dburrows/mambaforge/envs/pytorch1/lib/python3.9/site-packages (from lightning) (2.2.0)\n",
      "Requirement already satisfied: tqdm<6.0,>=4.57.0 in /home/dburrows/mambaforge/envs/pytorch1/lib/python3.9/site-packages (from lightning) (4.64.0)\n",
      "Requirement already satisfied: pytorch-lightning in /home/dburrows/mambaforge/envs/pytorch1/lib/python3.9/site-packages (from lightning) (2.2.0.post0)\n",
      "Requirement already satisfied: typing-extensions<6.0,>=4.4.0 in /home/dburrows/mambaforge/envs/pytorch1/lib/python3.9/site-packages (from lightning) (4.9.0)\n",
      "Requirement already satisfied: fsspec[http]<2025.0,>=2022.5.0 in /home/dburrows/mambaforge/envs/pytorch1/lib/python3.9/site-packages (from lightning) (2024.2.0)\n",
      "Requirement already satisfied: torchmetrics<3.0,>=0.7.0 in /home/dburrows/mambaforge/envs/pytorch1/lib/python3.9/site-packages (from lightning) (1.3.1)\n",
      "Requirement already satisfied: numpy<3.0,>=1.17.2 in /home/dburrows/mambaforge/envs/pytorch1/lib/python3.9/site-packages (from lightning) (1.21.5)\n",
      "Requirement already satisfied: aiohttp!=4.0.0a0,!=4.0.0a1 in /home/dburrows/mambaforge/envs/pytorch1/lib/python3.9/site-packages (from fsspec[http]<2025.0,>=2022.5.0->lightning) (3.8.1)\n",
      "Requirement already satisfied: attrs>=17.3.0 in /home/dburrows/mambaforge/envs/pytorch1/lib/python3.9/site-packages (from aiohttp!=4.0.0a0,!=4.0.0a1->fsspec[http]<2025.0,>=2022.5.0->lightning) (21.4.0)\n",
      "Requirement already satisfied: async-timeout<5.0,>=4.0.0a3 in /home/dburrows/mambaforge/envs/pytorch1/lib/python3.9/site-packages (from aiohttp!=4.0.0a0,!=4.0.0a1->fsspec[http]<2025.0,>=2022.5.0->lightning) (4.0.1)\n",
      "Requirement already satisfied: yarl<2.0,>=1.0 in /home/dburrows/mambaforge/envs/pytorch1/lib/python3.9/site-packages (from aiohttp!=4.0.0a0,!=4.0.0a1->fsspec[http]<2025.0,>=2022.5.0->lightning) (1.6.3)\n",
      "Requirement already satisfied: frozenlist>=1.1.1 in /home/dburrows/mambaforge/envs/pytorch1/lib/python3.9/site-packages (from aiohttp!=4.0.0a0,!=4.0.0a1->fsspec[http]<2025.0,>=2022.5.0->lightning) (1.2.0)\n",
      "Requirement already satisfied: aiosignal>=1.1.2 in /home/dburrows/mambaforge/envs/pytorch1/lib/python3.9/site-packages (from aiohttp!=4.0.0a0,!=4.0.0a1->fsspec[http]<2025.0,>=2022.5.0->lightning) (1.2.0)\n",
      "Requirement already satisfied: multidict<7.0,>=4.5 in /home/dburrows/mambaforge/envs/pytorch1/lib/python3.9/site-packages (from aiohttp!=4.0.0a0,!=4.0.0a1->fsspec[http]<2025.0,>=2022.5.0->lightning) (5.2.0)\n",
      "Requirement already satisfied: charset-normalizer<3.0,>=2.0 in /home/dburrows/mambaforge/envs/pytorch1/lib/python3.9/site-packages (from aiohttp!=4.0.0a0,!=4.0.0a1->fsspec[http]<2025.0,>=2022.5.0->lightning) (2.0.4)\n",
      "Requirement already satisfied: setuptools in /home/dburrows/.local/lib/python3.9/site-packages (from lightning-utilities<2.0,>=0.8.0->lightning) (67.6.0)\n",
      "Requirement already satisfied: pyparsing!=3.0.5,>=2.0.2 in /home/dburrows/mambaforge/envs/pytorch1/lib/python3.9/site-packages (from packaging<25.0,>=20.0->lightning) (3.0.4)\n",
      "Requirement already satisfied: nvidia-cufft-cu12==11.0.2.54 in /home/dburrows/mambaforge/envs/pytorch1/lib/python3.9/site-packages (from torch<4.0,>=1.13.0->lightning) (11.0.2.54)\n",
      "Requirement already satisfied: nvidia-nccl-cu12==2.19.3 in /home/dburrows/mambaforge/envs/pytorch1/lib/python3.9/site-packages (from torch<4.0,>=1.13.0->lightning) (2.19.3)\n",
      "Requirement already satisfied: nvidia-cublas-cu12==12.1.3.1 in /home/dburrows/mambaforge/envs/pytorch1/lib/python3.9/site-packages (from torch<4.0,>=1.13.0->lightning) (12.1.3.1)\n",
      "Requirement already satisfied: nvidia-cuda-nvrtc-cu12==12.1.105 in /home/dburrows/mambaforge/envs/pytorch1/lib/python3.9/site-packages (from torch<4.0,>=1.13.0->lightning) (12.1.105)\n",
      "Requirement already satisfied: filelock in /home/dburrows/mambaforge/envs/pytorch1/lib/python3.9/site-packages (from torch<4.0,>=1.13.0->lightning) (3.6.0)\n",
      "Requirement already satisfied: nvidia-cuda-runtime-cu12==12.1.105 in /home/dburrows/mambaforge/envs/pytorch1/lib/python3.9/site-packages (from torch<4.0,>=1.13.0->lightning) (12.1.105)\n",
      "Requirement already satisfied: nvidia-cuda-cupti-cu12==12.1.105 in /home/dburrows/mambaforge/envs/pytorch1/lib/python3.9/site-packages (from torch<4.0,>=1.13.0->lightning) (12.1.105)\n",
      "Requirement already satisfied: nvidia-cusparse-cu12==12.1.0.106 in /home/dburrows/mambaforge/envs/pytorch1/lib/python3.9/site-packages (from torch<4.0,>=1.13.0->lightning) (12.1.0.106)\n",
      "Requirement already satisfied: nvidia-cudnn-cu12==8.9.2.26 in /home/dburrows/mambaforge/envs/pytorch1/lib/python3.9/site-packages (from torch<4.0,>=1.13.0->lightning) (8.9.2.26)\n",
      "Requirement already satisfied: nvidia-curand-cu12==10.3.2.106 in /home/dburrows/mambaforge/envs/pytorch1/lib/python3.9/site-packages (from torch<4.0,>=1.13.0->lightning) (10.3.2.106)\n",
      "Requirement already satisfied: sympy in /home/dburrows/mambaforge/envs/pytorch1/lib/python3.9/site-packages (from torch<4.0,>=1.13.0->lightning) (1.10.1)\n",
      "Requirement already satisfied: networkx in /home/dburrows/mambaforge/envs/pytorch1/lib/python3.9/site-packages (from torch<4.0,>=1.13.0->lightning) (2.7.1)\n",
      "Requirement already satisfied: nvidia-cusolver-cu12==11.4.5.107 in /home/dburrows/mambaforge/envs/pytorch1/lib/python3.9/site-packages (from torch<4.0,>=1.13.0->lightning) (11.4.5.107)\n",
      "Requirement already satisfied: jinja2 in /home/dburrows/mambaforge/envs/pytorch1/lib/python3.9/site-packages (from torch<4.0,>=1.13.0->lightning) (2.11.3)\n",
      "Requirement already satisfied: triton==2.2.0 in /home/dburrows/mambaforge/envs/pytorch1/lib/python3.9/site-packages (from torch<4.0,>=1.13.0->lightning) (2.2.0)\n",
      "Requirement already satisfied: nvidia-nvtx-cu12==12.1.105 in /home/dburrows/mambaforge/envs/pytorch1/lib/python3.9/site-packages (from torch<4.0,>=1.13.0->lightning) (12.1.105)\n",
      "Requirement already satisfied: nvidia-nvjitlink-cu12 in /home/dburrows/mambaforge/envs/pytorch1/lib/python3.9/site-packages (from nvidia-cusolver-cu12==11.4.5.107->torch<4.0,>=1.13.0->lightning) (12.3.101)\n",
      "Requirement already satisfied: idna>=2.0 in /home/dburrows/mambaforge/envs/pytorch1/lib/python3.9/site-packages (from yarl<2.0,>=1.0->aiohttp!=4.0.0a0,!=4.0.0a1->fsspec[http]<2025.0,>=2022.5.0->lightning) (3.3)\n",
      "Requirement already satisfied: MarkupSafe>=0.23 in /home/dburrows/mambaforge/envs/pytorch1/lib/python3.9/site-packages (from jinja2->torch<4.0,>=1.13.0->lightning) (2.0.1)\n",
      "Requirement already satisfied: mpmath>=0.19 in /home/dburrows/mambaforge/envs/pytorch1/lib/python3.9/site-packages (from sympy->torch<4.0,>=1.13.0->lightning) (1.2.1)\n",
      "Note: you may need to restart the kernel to use updated packages.\n"
     ]
    }
   ],
   "source": [
    "\"\"\"Dataset and DataLoader classes for Pytorch Lightning neural network models.\n",
    "\n",
    "Dataset types:\n",
    "\n",
    "- TabularDataset: for tabular data. Converts two pandas DataFrames (X and y)\n",
    "\t  to a Pytorch Dataset. Indices are used to match X and y.\n",
    "\n",
    "- CoordScalingTabularDataset: for tabular data with coordinate scaling. All\n",
    "\tcolumns that contain 'coord' in the name will be scaled by a factor of\n",
    "\t100,000 (e.g. 600,000 becomes 6). This is useful for scaling the east\n",
    "\tand north coordinates in the UKBB dataset which range from about 0 to\n",
    "\t1.2 million.\n",
    "\"\"\"\n",
    "\n",
    "\n",
    "\n",
    "class TabularDataset(Dataset):\n",
    "\t\"\"\"Tabular dataset for Pytorch neural network models.\n",
    "\n",
    "\tArgs:\n",
    "\t\tX: pandas DataFrame, features\n",
    "\t\ty: pandas Series, target\n",
    "\t\"\"\"\n",
    "\n",
    "\tdef __init__(self, X, y=None):\n",
    "\t\t\"\"\"Initialize tabular dataset.\"\"\"\n",
    "\t\tself.X = X\n",
    "\t\tself.y = y\n",
    "\n",
    "\tdef __len__(self):\n",
    "\t\t\"\"\"Return length of dataset.\"\"\"\n",
    "\t\treturn len(self.X)\n",
    "\n",
    "\tdef __getitem__(self, idx):\n",
    "\t\t\"\"\"Return X and y at index.\"\"\"\n",
    "\t\tif self.y is not None:\n",
    "\t\t\treturn (\n",
    "\t\t\t\ttorch.tensor(self.X.iloc[idx].values, dtype=torch.float32), \n",
    "\t\t\t\ttorch.tensor(self.y.iloc[idx].values, dtype=torch.float32)\n",
    "\t\t\t)\n",
    "\t\telse:\n",
    "\t\t\treturn torch.tensor(self.X.iloc[idx].values, dtype=torch.float32)\n",
    "\t\t\n",
    "\n",
    "class CoordScalingTabularDataset(TabularDataset):\n",
    "\t\"\"\"Tabular dataset for Pytorch neural network models with coordinate scaling.\n",
    "\n",
    "\tAll columns that contain 'coord' in the name will be scaled by a factor of\n",
    "\t100,000 (e.g. 600,000 becomes 6). This is useful for scaling the east and\n",
    "\tnorth coordinates in the UKBB dataset which range from about 0 to 600,000.\n",
    "\t\"\"\"\n",
    "\n",
    "\tdef __init__(self, X, y=None):\n",
    "\t\t\"\"\"Initialize tabular dataset.\"\"\"\n",
    "\t\t# Scale coordinates\n",
    "\t\tfor col in X.columns:\n",
    "\t\t\tif 'coord' in col:\n",
    "\t\t\t\tX[col] = X[col] / 100000\n",
    "\n",
    "\t\tsuper().__init__(X, y)"
   ]
  }
 ],
 "metadata": {
  "kernelspec": {
   "display_name": "Python 3 (ipykernel)",
   "language": "python",
   "name": "python3"
  },
  "language_info": {
   "codemirror_mode": {
    "name": "ipython",
    "version": 3
   },
   "file_extension": ".py",
   "mimetype": "text/x-python",
   "name": "python",
   "nbconvert_exporter": "python",
   "pygments_lexer": "ipython3",
   "version": "3.9.7"
  }
 },
 "nbformat": 4,
 "nbformat_minor": 5
}
