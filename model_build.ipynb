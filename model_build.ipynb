{
 "cells": [
  {
   "cell_type": "code",
   "execution_count": 5,
   "id": "57b0b37d",
   "metadata": {},
   "outputs": [
    {
     "name": "stdout",
     "output_type": "stream",
     "text": [
      "The autoreload extension is already loaded. To reload it, use:\n",
      "  %reload_ext autoreload\n",
      "Python version 3.9.7 | packaged by conda-forge | (default, Sep 29 2021, 19:23:11) \n",
      "[GCC 9.4.0]\n",
      "Python path /home/dburrows/mambaforge/envs/pytorch1/bin/python\n"
     ]
    }
   ],
   "source": [
    "#CONDA ENV pytorch1 (python 3.9.7)\n",
    "#Import packages\n",
    "#---------------------------------------\n",
    "import sys\n",
    "import os\n",
    "import glob\n",
    "import pandas as pd\n",
    "from matplotlib import pyplot as plt\n",
    "import numpy as np\n",
    "from multiprocessing import Pool\n",
    "import process_functions as pf\n",
    "import pyBigWig as bw\n",
    "import torch\n",
    "from enformer_pytorch import Enformer, GenomeIntervalDataset\n",
    "import polars as pl\n",
    "\n",
    "#Import your modules\n",
    "#---------------------------------------\n",
    "sys.path.insert(1, '/cndd3/dburrows/CODE/admin_tools/')\n",
    "from admin_tools import admin_functions as adm\n",
    "\n",
    "# Define paths\n",
    "#----------------------------------------------------------------------\n",
    "l_code = '/Users/dominicburrows/Dropbox/PhD/Analysis/my_scripts/GitHub/'\n",
    "l_data = '/Users/dominicburrows/Dropbox/PhD/analysis/Project/'\n",
    "l_fig = '/Users/dominicburrows/Dropbox/PhD/figures/'\n",
    "\n",
    "s_code = '/cndd3/dburrows/CODE/'\n",
    "s_data = '/cndd3/dburrows/DATA/'\n",
    "s_fig = '/cndd3/dburrows/FIGS/'\n",
    "\n",
    "%load_ext autoreload\n",
    "print(f'Python version {sys.version}')\n",
    "print(f'Python path {sys.executable}')"
   ]
  },
  {
   "cell_type": "code",
   "execution_count": 48,
   "id": "ecf335b6",
   "metadata": {},
   "outputs": [
    {
     "name": "stderr",
     "output_type": "stream",
     "text": [
      "/tmp/ipykernel_2642216/823340253.py:2: DtypeWarning: Columns (17,18) have mixed types. Specify dtype option on import or set low_memory=False.\n",
      "  splice = pd.read_csv('/cndd2/dburrows/DATA/splice/model/processed_data/SJ.comb.bed', sep='\\t', index_col=0)\n"
     ]
    }
   ],
   "source": [
    "#Load in data\n",
    "splice = pd.read_csv('/cndd2/dburrows/DATA/splice/model/processed_data/SJ.comb.bed', sep='\\t', index_col=0)\n",
    "splice.index = splice['id-unique'] #set spliceid as index\n",
    "mcg = pd.read_csv('/cndd2/dburrows/DATA/splice/model/processed_data/CG.bingraph.raw', sep='\\t', index_col=0)\n",
    "mch = pd.read_csv('/cndd2/dburrows/DATA/splice/model/processed_data/CAC.bingraph.raw', sep='\\t', index_col=0)\n",
    "atac = pd.read_csv('/cndd2/dburrows/DATA/splice/model/processed_data/ATAC.bingraph.raw', sep='\\t', index_col=0)"
   ]
  },
  {
   "cell_type": "code",
   "execution_count": 196,
   "id": "2fb3feaa",
   "metadata": {},
   "outputs": [
    {
     "name": "stdout",
     "output_type": "stream",
     "text": [
      "14.0% of SJs contain mcg nans\n",
      "2.0% of SJs contain mch nans\n"
     ]
    }
   ],
   "source": [
    "#Deal with nans\n",
    "print(f'{np.ceil((sum(np.sum(np.isnan(mcg).values,axis=1) > 0) / len(mcg))*100)}% of SJs contain mcg nans') \n",
    "print(f'{np.ceil((sum(np.sum(np.isnan(mch).values,axis=1) > 0) / len(mch))*100)}% of SJs contain mch nans') "
   ]
  },
  {
   "cell_type": "code",
   "execution_count": 241,
   "id": "832f6533",
   "metadata": {},
   "outputs": [
    {
     "data": {
      "image/png": "[encoded data removed]",
      "text/plain": [
       "<Figure size 360x360 with 1 Axes>"
      ]
     },
     "metadata": {
      "needs_background": "light"
     },
     "output_type": "display_data"
    }
   ],
   "source": [
    "#plot number of nans in mcg\n",
    "\n",
    "curr = mcg.values\n",
    "sum_nan = np.sum(np.isnan(curr),axis=1)\n",
    "fig,ax = plt.subplots(figsize=(5,5))\n",
    "plt.hist(sum_nan,bins=np.geomspace(1,np.max(sum_nan),10))\n",
    "plt.xscale('log')\n",
    "plt.show()"
   ]
  },
  {
   "cell_type": "code",
   "execution_count": 239,
   "id": "79dea209",
   "metadata": {},
   "outputs": [
    {
     "data": {
      "image/png": "[encoded data removed]",
      "text/plain": [
       "<Figure size 360x360 with 1 Axes>"
      ]
     },
     "metadata": {
      "needs_background": "light"
     },
     "output_type": "display_data"
    }
   ],
   "source": [
    "#plot number of nans in mch\n",
    "curr = mch.values\n",
    "sum_nan = np.sum(np.isnan(curr),axis=1)\n",
    "fig,ax = plt.subplots(figsize=(5,5))\n",
    "plt.hist(sum_nan,bins=np.geomspace(1,np.max(sum_nan),10))\n",
    "plt.xscale('log')\n",
    "plt.show()"
   ]
  },
  {
   "cell_type": "code",
   "execution_count": 256,
   "id": "db204090",
   "metadata": {},
   "outputs": [
    {
     "data": {
      "text/plain": [
       "(array([      6,       6,       6, ..., 2523445, 2523445, 2523445]),\n",
       " array([ 4, 26, 47, ..., 65, 66, 67]))"
      ]
     },
     "execution_count": 256,
     "metadata": {},
     "output_type": "execute_result"
    }
   ],
   "source": [
    "#impute nans\n",
    "loc = np.where(np.isnan(mcg.values)==True)\n",
    "loc"
   ]
  },
  {
   "cell_type": "code",
   "execution_count": 269,
   "id": "34591a19",
   "metadata": {},
   "outputs": [
    {
     "data": {
      "text/plain": [
       "((array([      5,       5,       5, ..., 2523444, 2523444, 2523444]),\n",
       "  array([ 3, 25, 46, ..., 64, 65, 66])),\n",
       " (array([      7,       7,       7, ..., 2523446, 2523446, 2523446]),\n",
       "  array([ 5, 27, 48, ..., 66, 67, 68])))"
      ]
     },
     "execution_count": 269,
     "metadata": {},
     "output_type": "execute_result"
    }
   ],
   "source": [
    "left = loc[0]-1,loc[1]-1\n",
    "right = loc[0]+1,loc[1]+1\n",
    "\n",
    "left,right"
   ]
  },
  {
   "cell_type": "code",
   "execution_count": 271,
   "id": "99886e8c",
   "metadata": {},
   "outputs": [
    {
     "data": {
      "text/plain": [
       "array([0.2697  , 0.83932 , 0.116225, ...,      nan,      nan, 0.9091  ])"
      ]
     },
     "execution_count": 271,
     "metadata": {},
     "output_type": "execute_result"
    }
   ],
   "source": [
    "mcg.values[left]"
   ]
  },
  {
   "cell_type": "code",
   "execution_count": 272,
   "id": "dfd553ef",
   "metadata": {},
   "outputs": [
    {
     "ename": "IndexError",
     "evalue": "index 79 is out of bounds for axis 1 with size 79",
     "output_type": "error",
     "traceback": [
      "\u001b[0;31m---------------------------------------------------------------------------\u001b[0m",
      "\u001b[0;31mIndexError\u001b[0m                                Traceback (most recent call last)",
      "\u001b[0;32m/tmp/ipykernel_2642216/1997375854.py\u001b[0m in \u001b[0;36m<cell line: 1>\u001b[0;34m()\u001b[0m\n\u001b[0;32m----> 1\u001b[0;31m \u001b[0mmcg\u001b[0m\u001b[0;34m.\u001b[0m\u001b[0mvalues\u001b[0m\u001b[0;34m[\u001b[0m\u001b[0mright\u001b[0m\u001b[0;34m]\u001b[0m\u001b[0;34m\u001b[0m\u001b[0;34m\u001b[0m\u001b[0m\n\u001b[0m",
      "\u001b[0;31mIndexError\u001b[0m: index 79 is out of bounds for axis 1 with size 79"
     ]
    }
   ],
   "source": [
    "mcg.values[right]"
   ]
  },
  {
   "cell_type": "code",
   "execution_count": 252,
   "id": "a59a31b0",
   "metadata": {},
   "outputs": [
    {
     "data": {
      "text/plain": [
       "array([nan, nan, nan, ..., nan, nan, nan])"
      ]
     },
     "execution_count": 252,
     "metadata": {},
     "output_type": "execute_result"
    }
   ],
   "source": [
    "mcg.values[np.isnan(mcg.values)]"
   ]
  },
  {
   "cell_type": "code",
   "execution_count": null,
   "id": "bc832cc0",
   "metadata": {},
   "outputs": [],
   "source": []
  },
  {
   "cell_type": "code",
   "execution_count": 160,
   "id": "763de5ae",
   "metadata": {},
   "outputs": [],
   "source": [
    "#Instantiate dataset object\n",
    "prac = episplice_dataset(splice=splice['CPM'], mcg=mcg, mch=mch, \n",
    "                         atac=atac, pos_enc = (mcg.columns.values).astype(float), mode='binned')"
   ]
  },
  {
   "cell_type": "code",
   "execution_count": 164,
   "id": "d99682d2",
   "metadata": {},
   "outputs": [
    {
     "data": {
      "text/plain": [
       "L2-3_ITchr11000013810003234-acceptor    64.986165\n",
       "L2-3_ITchr11000013810003234-donor       62.254174\n",
       "L2-3_ITchr11000013810009071-acceptor    64.986165\n",
       "L2-3_ITchr11000013810009071-donor       40.514534\n",
       "L2-3_ITchr11000345410009071-acceptor    61.534634\n",
       "                                          ...    \n",
       "Lamp5chrX75997367600620-donor           60.173471\n",
       "Lamp5chrX76007547604159-acceptor        59.774292\n",
       "Lamp5chrX76007547604159-donor           57.052710\n",
       "Lamp5chrX76043387605243-acceptor        57.153712\n",
       "Lamp5chrX76043387605243-donor           53.917631\n",
       "Length: 2523478, dtype: float64"
      ]
     },
     "execution_count": 164,
     "metadata": {},
     "output_type": "execute_result"
    }
   ],
   "source": [
    "mc_sum = np.sum(mcg,axis=1)\n",
    "mc_sum"
   ]
  },
  {
   "cell_type": "code",
   "execution_count": 190,
   "id": "af98013b",
   "metadata": {},
   "outputs": [
    {
     "data": {
      "text/plain": [
       "349690"
      ]
     },
     "execution_count": 190,
     "metadata": {},
     "output_type": "execute_result"
    }
   ],
   "source": [
    "sum(np.sum(np.isnan(mcg).values,axis=1) > 0)"
   ]
  },
  {
   "cell_type": "code",
   "execution_count": 194,
   "id": "1ea0cd97",
   "metadata": {},
   "outputs": [
    {
     "data": {
      "text/plain": [
       "14.0"
      ]
     },
     "execution_count": 194,
     "metadata": {},
     "output_type": "execute_result"
    }
   ],
   "source": [
    "np.ceil((sum(np.sum(np.isnan(mcg).values,axis=1) > 0) / len(mcg))*100)"
   ]
  },
  {
   "cell_type": "code",
   "execution_count": 191,
   "id": "e17f9ffc",
   "metadata": {},
   "outputs": [
    {
     "data": {
      "text/plain": [
       "2523478"
      ]
     },
     "execution_count": 191,
     "metadata": {},
     "output_type": "execute_result"
    }
   ],
   "source": [
    "len(mcg)"
   ]
  },
  {
   "cell_type": "code",
   "execution_count": 161,
   "id": "2db2a662",
   "metadata": {},
   "outputs": [],
   "source": [
    "class episplice_dataset(Dataset):\n",
    "    \"\"\"Dataset class for Pytorch Lightning neural network models. Epi datasets will be loaded as continuous traces. \n",
    "\n",
    "    Datatypes:\n",
    "        splice (dataframe): all SJ usage values, indexed by unique SJ id.\n",
    "        seq ???\n",
    "        mcg (dataframe): all binned mcg values containing flanking context of SJ, indexed by unique SJ id. Bin labels in columns must match mcg and atac, and be the same across all SJs. \n",
    "        mch (dataframe): all binned mch values containing flanking context of SJ, indexed by unique SJ id. \n",
    "        atac (dataframe): all binned atac values containing flanking context of SJ, indexed by unique SJ id. \n",
    "        pos_enc (array): labels of positional encodings for flanking epi bins.  \n",
    "        mode (str): 'continuous' for loading continous epi traces, 'binned' for loading mean binned values for epi traces (used for MLP baseline) \n",
    "\n",
    "    \"\"\"\n",
    "\n",
    "    def __init__(self,splice=None, seq = None, mcg=None, mch=None, atac=None, pos_enc=None, mode='continuous'):\n",
    "        \"\"\" Initialise epigenetic splice dataset \"\"\"\n",
    "        self.splice = splice\n",
    "        self.seq = seq\n",
    "        self.mcg = mcg\n",
    "        self.mch = mch\n",
    "        self.atac = atac\n",
    "        self.pos_enc = pos_enc\n",
    "        self.mode = mode\n",
    "        if seq is None and mcg is None and mch is None and atac is None: \n",
    "            raise Exception('At least one datatype must be entered to make predictions')\n",
    "            \n",
    "        if mode != 'continuous' and mode != 'binned':\n",
    "            raise Exception('Mode must be either continuous or binned')\n",
    "            \n",
    "        \n",
    "    def __len__(self):\n",
    "        \"\"\" Return length of dataset \"\"\"\n",
    "        return len(self.splice)\n",
    "    \n",
    "    \n",
    "    def __getitem__(self,idx):\n",
    "        \"\"\" Return splice, seq, mcg, mch, atac at index \"\"\"\n",
    "        splice_idx, seq_idx, mcg_idx, mch_idx, atac_idx,pos_enc_idx = None,None,None,None,None,None\n",
    "        \n",
    "        #access SJ usage and convert to tensor\n",
    "        if self.splice is not None: splice_idx = torch.tensor(self.splice.loc[idx], dtype=torch.float32)\n",
    "        \n",
    "        #output each feature separately\n",
    "        if self.mode == 'continuous':\n",
    "            #slice and convert to tensor\n",
    "            if self.seq is not None: seq_idx = None #TBD\n",
    "            if self.mcg is not None: mcg_idx = torch.tensor(self.mcg.loc[idx].values, dtype=torch.float32)\n",
    "            if self.mch is not None: mch_idx = torch.tensor(self.mch.loc[idx].values, dtype=torch.float32)\n",
    "            if self.atac is not None: atac_idx = torch.tensor(self.atac.loc[idx].values, dtype=torch.float32)\n",
    "            if self.pos_enc is not None: pos_enc_idx = torch.tensor(self.pos_enc, dtype=torch.float32)\n",
    "\n",
    "            return(splice_idx,seq_idx, mcg_idx, mch_idx, atac_idx, pos_enc_idx)\n",
    "        \n",
    "        #output single vector for MLP\n",
    "        if self.mode == 'binned':\n",
    "            if mcg is None or mch is None or atac is None: \n",
    "                raise Exception('All epi data (mcg, mch, atac) required for binned Dataset object')\n",
    "            \n",
    "            nbins=10\n",
    "            it = np.append([(len(self.mcg.loc[idx].values)//nbins)*i for i in range(nbins+1)], len(self.mcg.loc[idx].values)) #split indeces by 10\n",
    "            mcg_idx = [np.mean(self.mcg.loc[idx].values[it[i]:it[i+1]]) for i in range(len(it)-1)]\n",
    "            mch_idx = [np.mean(self.mch.loc[idx].values[it[i]:it[i+1]]) for i in range(len(it)-1)]\n",
    "            atac_idx = [np.mean(self.atac.loc[idx].values[it[i]:it[i+1]]) for i in range(len(it)-1)]\n",
    "            return(splice_idx, torch.tensor(mcg_idx + mch_idx + atac_idx, dtype=torch.float32))\n",
    "                \n",
    "        "
   ]
  },
  {
   "cell_type": "code",
   "execution_count": 18,
   "id": "83c4ea97",
   "metadata": {},
   "outputs": [
    {
     "data": {
      "text/plain": [
       "1"
      ]
     },
     "execution_count": 18,
     "metadata": {},
     "output_type": "execute_result"
    }
   ],
   "source": [
    "#DATALoader? \n"
   ]
  },
  {
   "cell_type": "code",
   "execution_count": null,
   "id": "af239a08",
   "metadata": {},
   "outputs": [],
   "source": [
    "#model object shell"
   ]
  },
  {
   "cell_type": "code",
   "execution_count": null,
   "id": "61899876",
   "metadata": {},
   "outputs": [],
   "source": [
    "#specific architecture -> learn about MLP\n",
    "\n",
    "#32 -> 32 -> 16 -> 1\n",
    "# multiple of 8? why? "
   ]
  },
  {
   "cell_type": "code",
   "execution_count": null,
   "id": "2f78fdcb",
   "metadata": {},
   "outputs": [],
   "source": [
    "#training etc. run\n",
    "\n",
    "#train,test,val\n",
    "# batch, test , use val to look at performance at each step, \n",
    "# if overfitting early on, too many units, and vice versa "
   ]
  },
  {
   "cell_type": "code",
   "execution_count": null,
   "id": "86bcafa5",
   "metadata": {},
   "outputs": [],
   "source": [
    "\"\"\"Dataset and DataLoader classes for Pytorch Lightning neural network models.\n",
    "\n",
    "Dataset types:\n",
    "\n",
    "- TabularDataset: for tabular data. Converts two pandas DataFrames (X and y)\n",
    "\t  to a Pytorch Dataset. Indices are used to match X and y.\n",
    "\n",
    "- CoordScalingTabularDataset: for tabular data with coordinate scaling. All\n",
    "\tcolumns that contain 'coord' in the name will be scaled by a factor of\n",
    "\t100,000 (e.g. 600,000 becomes 6). This is useful for scaling the east\n",
    "\tand north coordinates in the UKBB dataset which range from about 0 to\n",
    "\t1.2 million.\n",
    "\"\"\"\n",
    "\n",
    "\n",
    "\n",
    "\n",
    "class TabularDataset(Dataset):\n",
    "\t\"\"\"Tabular dataset for Pytorch neural network models.\n",
    "\n",
    "\tArgs:\n",
    "\t\tX: pandas DataFrame, features\n",
    "\t\ty: pandas Series, target\n",
    "\t\"\"\"\n",
    "\n",
    "\tdef __init__(self, X, y=None):\n",
    "\t\t\"\"\"Initialize tabular dataset.\"\"\"\n",
    "\t\tself.X = X\n",
    "\t\tself.y = y\n",
    "\n",
    "\tdef __len__(self):\n",
    "\t\t\"\"\"Return length of dataset.\"\"\"\n",
    "\t\treturn len(self.X)\n",
    "\n",
    "\tdef __getitem__(self, idx):\n",
    "\t\t\"\"\"Return X and y at index.\"\"\"\n",
    "\t\tif self.y is not None:\n",
    "\t\t\treturn (\n",
    "\t\t\t\ttorch.tensor(self.X.iloc[idx].values, dtype=torch.float32), \n",
    "\t\t\t\ttorch.tensor(self.y.iloc[idx].values, dtype=torch.float32)\n",
    "\t\t\t)\n",
    "\t\telse:\n",
    "\t\t\treturn torch.tensor(self.X.iloc[idx].values, dtype=torch.float32)\n",
    "\t\t\n",
    "\n"
   ]
  },
  {
   "cell_type": "code",
   "execution_count": 3,
   "id": "74ba21a9",
   "metadata": {},
   "outputs": [
    {
     "name": "stdout",
     "output_type": "stream",
     "text": [
      "Requirement already satisfied: lightning in /home/dburrows/mambaforge/envs/pytorch1/lib/python3.9/site-packages (2.2.0.post0)\n",
      "Requirement already satisfied: lightning-utilities<2.0,>=0.8.0 in /home/dburrows/mambaforge/envs/pytorch1/lib/python3.9/site-packages (from lightning) (0.10.1)\n",
      "Requirement already satisfied: PyYAML<8.0,>=5.4 in /home/dburrows/mambaforge/envs/pytorch1/lib/python3.9/site-packages (from lightning) (6.0)\n",
      "Requirement already satisfied: packaging<25.0,>=20.0 in /home/dburrows/mambaforge/envs/pytorch1/lib/python3.9/site-packages (from lightning) (21.3)\n",
      "Requirement already satisfied: torch<4.0,>=1.13.0 in /home/dburrows/mambaforge/envs/pytorch1/lib/python3.9/site-packages (from lightning) (2.2.0)\n",
      "Requirement already satisfied: tqdm<6.0,>=4.57.0 in /home/dburrows/mambaforge/envs/pytorch1/lib/python3.9/site-packages (from lightning) (4.64.0)\n",
      "Requirement already satisfied: pytorch-lightning in /home/dburrows/mambaforge/envs/pytorch1/lib/python3.9/site-packages (from lightning) (2.2.0.post0)\n",
      "Requirement already satisfied: typing-extensions<6.0,>=4.4.0 in /home/dburrows/mambaforge/envs/pytorch1/lib/python3.9/site-packages (from lightning) (4.9.0)\n",
      "Requirement already satisfied: fsspec[http]<2025.0,>=2022.5.0 in /home/dburrows/mambaforge/envs/pytorch1/lib/python3.9/site-packages (from lightning) (2024.2.0)\n",
      "Requirement already satisfied: torchmetrics<3.0,>=0.7.0 in /home/dburrows/mambaforge/envs/pytorch1/lib/python3.9/site-packages (from lightning) (1.3.1)\n",
      "Requirement already satisfied: numpy<3.0,>=1.17.2 in /home/dburrows/mambaforge/envs/pytorch1/lib/python3.9/site-packages (from lightning) (1.21.5)\n",
      "Requirement already satisfied: aiohttp!=4.0.0a0,!=4.0.0a1 in /home/dburrows/mambaforge/envs/pytorch1/lib/python3.9/site-packages (from fsspec[http]<2025.0,>=2022.5.0->lightning) (3.8.1)\n",
      "Requirement already satisfied: attrs>=17.3.0 in /home/dburrows/mambaforge/envs/pytorch1/lib/python3.9/site-packages (from aiohttp!=4.0.0a0,!=4.0.0a1->fsspec[http]<2025.0,>=2022.5.0->lightning) (21.4.0)\n",
      "Requirement already satisfied: async-timeout<5.0,>=4.0.0a3 in /home/dburrows/mambaforge/envs/pytorch1/lib/python3.9/site-packages (from aiohttp!=4.0.0a0,!=4.0.0a1->fsspec[http]<2025.0,>=2022.5.0->lightning) (4.0.1)\n",
      "Requirement already satisfied: yarl<2.0,>=1.0 in /home/dburrows/mambaforge/envs/pytorch1/lib/python3.9/site-packages (from aiohttp!=4.0.0a0,!=4.0.0a1->fsspec[http]<2025.0,>=2022.5.0->lightning) (1.6.3)\n",
      "Requirement already satisfied: frozenlist>=1.1.1 in /home/dburrows/mambaforge/envs/pytorch1/lib/python3.9/site-packages (from aiohttp!=4.0.0a0,!=4.0.0a1->fsspec[http]<2025.0,>=2022.5.0->lightning) (1.2.0)\n",
      "Requirement already satisfied: aiosignal>=1.1.2 in /home/dburrows/mambaforge/envs/pytorch1/lib/python3.9/site-packages (from aiohttp!=4.0.0a0,!=4.0.0a1->fsspec[http]<2025.0,>=2022.5.0->lightning) (1.2.0)\n",
      "Requirement already satisfied: multidict<7.0,>=4.5 in /home/dburrows/mambaforge/envs/pytorch1/lib/python3.9/site-packages (from aiohttp!=4.0.0a0,!=4.0.0a1->fsspec[http]<2025.0,>=2022.5.0->lightning) (5.2.0)\n",
      "Requirement already satisfied: charset-normalizer<3.0,>=2.0 in /home/dburrows/mambaforge/envs/pytorch1/lib/python3.9/site-packages (from aiohttp!=4.0.0a0,!=4.0.0a1->fsspec[http]<2025.0,>=2022.5.0->lightning) (2.0.4)\n",
      "Requirement already satisfied: setuptools in /home/dburrows/.local/lib/python3.9/site-packages (from lightning-utilities<2.0,>=0.8.0->lightning) (67.6.0)\n",
      "Requirement already satisfied: pyparsing!=3.0.5,>=2.0.2 in /home/dburrows/mambaforge/envs/pytorch1/lib/python3.9/site-packages (from packaging<25.0,>=20.0->lightning) (3.0.4)\n",
      "Requirement already satisfied: nvidia-cufft-cu12==11.0.2.54 in /home/dburrows/mambaforge/envs/pytorch1/lib/python3.9/site-packages (from torch<4.0,>=1.13.0->lightning) (11.0.2.54)\n",
      "Requirement already satisfied: nvidia-nccl-cu12==2.19.3 in /home/dburrows/mambaforge/envs/pytorch1/lib/python3.9/site-packages (from torch<4.0,>=1.13.0->lightning) (2.19.3)\n",
      "Requirement already satisfied: nvidia-cublas-cu12==12.1.3.1 in /home/dburrows/mambaforge/envs/pytorch1/lib/python3.9/site-packages (from torch<4.0,>=1.13.0->lightning) (12.1.3.1)\n",
      "Requirement already satisfied: nvidia-cuda-nvrtc-cu12==12.1.105 in /home/dburrows/mambaforge/envs/pytorch1/lib/python3.9/site-packages (from torch<4.0,>=1.13.0->lightning) (12.1.105)\n",
      "Requirement already satisfied: filelock in /home/dburrows/mambaforge/envs/pytorch1/lib/python3.9/site-packages (from torch<4.0,>=1.13.0->lightning) (3.6.0)\n",
      "Requirement already satisfied: nvidia-cuda-runtime-cu12==12.1.105 in /home/dburrows/mambaforge/envs/pytorch1/lib/python3.9/site-packages (from torch<4.0,>=1.13.0->lightning) (12.1.105)\n",
      "Requirement already satisfied: nvidia-cuda-cupti-cu12==12.1.105 in /home/dburrows/mambaforge/envs/pytorch1/lib/python3.9/site-packages (from torch<4.0,>=1.13.0->lightning) (12.1.105)\n",
      "Requirement already satisfied: nvidia-cusparse-cu12==12.1.0.106 in /home/dburrows/mambaforge/envs/pytorch1/lib/python3.9/site-packages (from torch<4.0,>=1.13.0->lightning) (12.1.0.106)\n",
      "Requirement already satisfied: nvidia-cudnn-cu12==8.9.2.26 in /home/dburrows/mambaforge/envs/pytorch1/lib/python3.9/site-packages (from torch<4.0,>=1.13.0->lightning) (8.9.2.26)\n",
      "Requirement already satisfied: nvidia-curand-cu12==10.3.2.106 in /home/dburrows/mambaforge/envs/pytorch1/lib/python3.9/site-packages (from torch<4.0,>=1.13.0->lightning) (10.3.2.106)\n",
      "Requirement already satisfied: sympy in /home/dburrows/mambaforge/envs/pytorch1/lib/python3.9/site-packages (from torch<4.0,>=1.13.0->lightning) (1.10.1)\n",
      "Requirement already satisfied: networkx in /home/dburrows/mambaforge/envs/pytorch1/lib/python3.9/site-packages (from torch<4.0,>=1.13.0->lightning) (2.7.1)\n",
      "Requirement already satisfied: nvidia-cusolver-cu12==11.4.5.107 in /home/dburrows/mambaforge/envs/pytorch1/lib/python3.9/site-packages (from torch<4.0,>=1.13.0->lightning) (11.4.5.107)\n",
      "Requirement already satisfied: jinja2 in /home/dburrows/mambaforge/envs/pytorch1/lib/python3.9/site-packages (from torch<4.0,>=1.13.0->lightning) (2.11.3)\n",
      "Requirement already satisfied: triton==2.2.0 in /home/dburrows/mambaforge/envs/pytorch1/lib/python3.9/site-packages (from torch<4.0,>=1.13.0->lightning) (2.2.0)\n",
      "Requirement already satisfied: nvidia-nvtx-cu12==12.1.105 in /home/dburrows/mambaforge/envs/pytorch1/lib/python3.9/site-packages (from torch<4.0,>=1.13.0->lightning) (12.1.105)\n",
      "Requirement already satisfied: nvidia-nvjitlink-cu12 in /home/dburrows/mambaforge/envs/pytorch1/lib/python3.9/site-packages (from nvidia-cusolver-cu12==11.4.5.107->torch<4.0,>=1.13.0->lightning) (12.3.101)\n",
      "Requirement already satisfied: idna>=2.0 in /home/dburrows/mambaforge/envs/pytorch1/lib/python3.9/site-packages (from yarl<2.0,>=1.0->aiohttp!=4.0.0a0,!=4.0.0a1->fsspec[http]<2025.0,>=2022.5.0->lightning) (3.3)\n",
      "Requirement already satisfied: MarkupSafe>=0.23 in /home/dburrows/mambaforge/envs/pytorch1/lib/python3.9/site-packages (from jinja2->torch<4.0,>=1.13.0->lightning) (2.0.1)\n",
      "Requirement already satisfied: mpmath>=0.19 in /home/dburrows/mambaforge/envs/pytorch1/lib/python3.9/site-packages (from sympy->torch<4.0,>=1.13.0->lightning) (1.2.1)\n",
      "Note: you may need to restart the kernel to use updated packages.\n"
     ]
    }
   ],
   "source": [
    "\"\"\"Dataset and DataLoader classes for Pytorch Lightning neural network models.\n",
    "\n",
    "Dataset types:\n",
    "\n",
    "- TabularDataset: for tabular data. Converts two pandas DataFrames (X and y)\n",
    "\t  to a Pytorch Dataset. Indices are used to match X and y.\n",
    "\n",
    "- CoordScalingTabularDataset: for tabular data with coordinate scaling. All\n",
    "\tcolumns that contain 'coord' in the name will be scaled by a factor of\n",
    "\t100,000 (e.g. 600,000 becomes 6). This is useful for scaling the east\n",
    "\tand north coordinates in the UKBB dataset which range from about 0 to\n",
    "\t1.2 million.\n",
    "\"\"\"\n",
    "\n",
    "\n",
    "\n",
    "class TabularDataset(Dataset):\n",
    "\t\"\"\"Tabular dataset for Pytorch neural network models.\n",
    "\n",
    "\tArgs:\n",
    "\t\tX: pandas DataFrame, features\n",
    "\t\ty: pandas Series, target\n",
    "\t\"\"\"\n",
    "\n",
    "\tdef __init__(self, X, y=None):\n",
    "\t\t\"\"\"Initialize tabular dataset.\"\"\"\n",
    "\t\tself.X = X\n",
    "\t\tself.y = y\n",
    "\n",
    "\tdef __len__(self):\n",
    "\t\t\"\"\"Return length of dataset.\"\"\"\n",
    "\t\treturn len(self.X)\n",
    "\n",
    "\tdef __getitem__(self, idx):\n",
    "\t\t\"\"\"Return X and y at index.\"\"\"\n",
    "\t\tif self.y is not None:\n",
    "\t\t\treturn (\n",
    "\t\t\t\ttorch.tensor(self.X.iloc[idx].values, dtype=torch.float32), \n",
    "\t\t\t\ttorch.tensor(self.y.iloc[idx].values, dtype=torch.float32)\n",
    "\t\t\t)\n",
    "\t\telse:\n",
    "\t\t\treturn torch.tensor(self.X.iloc[idx].values, dtype=torch.float32)\n",
    "\t\t\n",
    "\n",
    "class CoordScalingTabularDataset(TabularDataset):\n",
    "\t\"\"\"Tabular dataset for Pytorch neural network models with coordinate scaling.\n",
    "\n",
    "\tAll columns that contain 'coord' in the name will be scaled by a factor of\n",
    "\t100,000 (e.g. 600,000 becomes 6). This is useful for scaling the east and\n",
    "\tnorth coordinates in the UKBB dataset which range from about 0 to 600,000.\n",
    "\t\"\"\"\n",
    "\n",
    "\tdef __init__(self, X, y=None):\n",
    "\t\t\"\"\"Initialize tabular dataset.\"\"\"\n",
    "\t\t# Scale coordinates\n",
    "\t\tfor col in X.columns:\n",
    "\t\t\tif 'coord' in col:\n",
    "\t\t\t\tX[col] = X[col] / 100000\n",
    "\n",
    "\t\tsuper().__init__(X, y)"
   ]
  }
 ],
 "metadata": {
  "kernelspec": {
   "display_name": "Python 3 (ipykernel)",
   "language": "python",
   "name": "python3"
  },
  "language_info": {
   "codemirror_mode": {
    "name": "ipython",
    "version": 3
   },
   "file_extension": ".py",
   "mimetype": "text/x-python",
   "name": "python",
   "nbconvert_exporter": "python",
   "pygments_lexer": "ipython3",
   "version": "3.9.7"
  }
 },
 "nbformat": 4,
 "nbformat_minor": 5
}
