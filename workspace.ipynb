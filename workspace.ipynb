{
 "cells": [
  {
   "cell_type": "code",
   "execution_count": 13,
   "id": "0a9cadaa",
   "metadata": {},
   "outputs": [
    {
     "name": "stdout",
     "output_type": "stream",
     "text": [
      "The autoreload extension is already loaded. To reload it, use:\n",
      "  %reload_ext autoreload\n"
     ]
    },
    {
     "data": {
      "text/plain": [
       "'3.9.7 | packaged by conda-forge | (default, Sep 29 2021, 19:23:11) \\n[GCC 9.4.0]'"
      ]
     },
     "execution_count": 13,
     "metadata": {},
     "output_type": "execute_result"
    }
   ],
   "source": [
    "#CONDA ENV base_conda (python 3.9.7)\n",
    "#Import packages\n",
    "#---------------------------------------\n",
    "import sys\n",
    "import os\n",
    "import glob\n",
    "import pandas as pd\n",
    "from matplotlib import pyplot as plt\n",
    "import numpy as np\n",
    "from multiprocessing import Pool\n",
    "from tqdm import tqdm\n",
    "\n",
    "#Import your modules\n",
    "#---------------------------------------\n",
    "sys.path.insert(1, '/cndd3/dburrows/CODE/admin_tools/')\n",
    "from admin_tools import admin_functions as adm\n",
    "\n",
    "# Define paths\n",
    "#----------------------------------------------------------------------\n",
    "l_code = '/Users/dominicburrows/Dropbox/PhD/Analysis/my_scripts/GitHub/'\n",
    "l_data = '/Users/dominicburrows/Dropbox/PhD/analysis/Project/'\n",
    "l_fig = '/Users/dominicburrows/Dropbox/PhD/figures/'\n",
    "\n",
    "s_code = '/cndd3/dburrows/CODE/'\n",
    "s_data = '/cndd3/dburrows/DATA/'\n",
    "s_fig = '/cndd3/dburrows/FIGS/'\n",
    "\n",
    "%load_ext autoreload\n",
    "sys.version"
   ]
  },
  {
   "cell_type": "code",
   "execution_count": null,
   "id": "db11e32b",
   "metadata": {},
   "outputs": [],
   "source": []
  },
  {
   "cell_type": "code",
   "execution_count": 23,
   "id": "cce52d52",
   "metadata": {},
   "outputs": [
    {
     "name": "stdout",
     "output_type": "stream",
     "text": [
      "AAACCCACAACGACAG-1\n",
      "AAACCCACAACTAGAA-1\n",
      "AAACCCATCTAAGGAA-1\n",
      "AAACGAAAGACCAAAT-1\n",
      "AAACGAAAGAGTCTTC-1\n",
      "AAACGAACAGTTGTCA-1\n",
      "AAACGCTGTCCGCAGT-1\n",
      "AAACGCTTCTCATAGG-1\n",
      "AAACGCTTCTGGCCTT-1\n",
      "AAACGCTTCTTACCAT-1\n",
      "ENSMUSG00000051951\tXkr4\tGene Expression\n",
      "ENSMUSG00000089699\tGm1992\tGene Expression\n",
      "ENSMUSG00000102343\tGm37381\tGene Expression\n",
      "ENSMUSG00000025900\tRp1\tGene Expression\n",
      "ENSMUSG00000025902\tSox17\tGene Expression\n",
      "ENSMUSG00000104328\tGm37323\tGene Expression\n",
      "ENSMUSG00000033845\tMrpl15\tGene Expression\n",
      "ENSMUSG00000025903\tLypla1\tGene Expression\n",
      "ENSMUSG00000104217\tGm37988\tGene Expression\n",
      "ENSMUSG00000033813\tTcea1\tGene Expression\n",
      "%%MatrixMarket matrix coordinate integer general\n",
      "%metadata_json: {\"format_version\": 2, \"software_version\": \"3.1.0\"}\n",
      "31053 3870 10537333\n",
      "31050 1 4\n",
      "30991 1 1\n",
      "30976 1 38\n",
      "30974 1 6\n",
      "30973 1 21\n",
      "30972 1 1\n",
      "30971 1 8\n",
      "barcodes.tsv\n",
      "features.tsv\n",
      "matrix.mtx\n"
     ]
    }
   ],
   "source": [
    "%%bash\n",
    "cd /cndd3/dburrows/CODE/deepNN_splice/\n"
   ]
  },
  {
   "cell_type": "code",
   "execution_count": 17,
   "id": "f66fa0b7",
   "metadata": {},
   "outputs": [
    {
     "name": "stdout",
     "output_type": "stream",
     "text": [
      "chr19\thg19\tcDNA_match\t4114462\t4114796\t.\t-\t.\tread_id\t\"m64013_190226_194608/44434627/ccs.path1\";\n",
      "chr19\thg19\tcDNA_match\t4115081\t4115222\t.\t-\t.\tread_id\t\"m64013_190226_194608/44434627/ccs.path1\";\n",
      "chr19\thg19\tcDNA_match\t4115320\t4115496\t.\t-\t.\tread_id\t\"m64013_190226_194608/44434627/ccs.path1\";\n",
      "chr19\thg19\tcDNA_match\t4115982\t4116170\t.\t-\t.\tread_id\t\"m64013_190226_194608/44434627/ccs.path1\";\n",
      "chr19\thg19\tcDNA_match\t4118087\t4118266\t.\t-\t.\tread_id\t\"m64013_190226_194608/44434627/ccs.path1\";\n",
      "chr19\thg19\tcDNA_match\t4121336\t4121545\t.\t-\t.\tread_id\t\"m64013_190226_194608/44434627/ccs.path1\";\n",
      "chr19\thg19\tcDNA_match\t4125730\t4125782\t.\t-\t.\tread_id\t\"m64013_190226_194608/44434627/ccs.path1\";\n",
      "chr9\thg19\tcDNA_match\t96717422\t96718309\t.\t-\t.\tread_id \"m64013_190226_194608/66717425/ccs.path1\";\n",
      "chr9\thg19\tcDNA_match\t96731292\t96732188\t.\t-\t.\tread_id \"m64013_190226_194608/66717425/ccs.path1\";\n",
      "chr10\thg19\tcDNA_match\t80167842\t80167916\t.\t+\t.\tread_id \"m64013_190226_194608/84281402/ccs.path1\";\n",
      "chr10\thg19\tcDNA_match\t80169808\t80169916\t.\t+\t.\tread_id \"m64013_190226_194608/84281402/ccs.path1\";\n",
      "chr10\thg19\tcDNA_match\t80170016\t80170122\t.\t+\t.\tread_id \"m64013_190226_194608/84281402/ccs.path1\";\n",
      "chr10\thg19\tcDNA_match\t80170202\t80170340\t.\t+\t.\tread_id \"m64013_190226_194608/84281402/ccs.path1\";\n",
      "chr10\thg19\tcDNA_match\t80170425\t80170506\t.\t+\t.\tread_id \"m64013_190226_194608/84281402/ccs.path1\";\n",
      "chr10\thg19\tcDNA_match\t80170694\t80170764\t.\t+\t.\tread_id \"m64013_190226_194608/84281402/ccs.path1\";\n",
      "chr10\thg19\tcDNA_match\t80170982\t80171655\t.\t+\t.\tread_id \"m64013_190226_194608/84281402/ccs.path1\";\n",
      "chr9\thg19\tcDNA_match\t47813901\t47813945\t.\t+\t.\tread_id \"m64013_190226_194608/116326567/ccs.path1\";\n",
      "chr9\thg19\tcDNA_match\t47829377\t47829409\t.\t+\t.\tread_id \"m64013_190226_194608/116326567/ccs.path1\";\n",
      "chr9\thg19\tcDNA_match\t47848167\t47848298\t.\t+\t.\tread_id \"m64013_190226_194608/116326567/ccs.path1\";\n",
      "chr9\thg19\tcDNA_match\t47850272\t47851074\t.\t+\t.\tread_id \"m64013_190226_194608/116326567/ccs.path1\";\n",
      "chr8\thg19\tcDNA_match\t16800185\t16800257\t.\t-\t.\tread_id \"m64013_190226_194608/109447951/ccs.path1\";\n",
      "chr8\thg19\tcDNA_match\t16800282\t16803595\t.\t-\t.\tread_id \"m64013_190226_194608/109447951/ccs.path1\";\n",
      "chrX\thg19\tcDNA_match\t144318022\t144318121\t.\t+\t.\tread_id\t\"m64013_190226_194608/61277366/ccs.path1\";\n",
      "chrX\thg19\tcDNA_match\t144319899\t144321805\t.\t+\t.\tread_id\t\"m64013_190226_194608/61277366/ccs.path1\";\n",
      "chr12\thg19\tcDNA_match\t69372159\t69372223\t.\t+\t.\tread_id \"m64013_190226_194608/30147254/ccs.path1\";\n",
      "chr12\thg19\tcDNA_match\t69372324\t69373662\t.\t+\t.\tread_id \"m64013_190226_194608/30147254/ccs.path1\";\n",
      "chr10\thg19\tcDNA_match\t127067287\t127068190\t.\t-\t.\tread_id\t\"m64013_190226_194608/65143404/ccs.path1\";\n",
      "chr10\thg19\tcDNA_match\t127068269\t127068322\t.\t-\t.\tread_id\t\"m64013_190226_194608/65143404/ccs.path1\";\n",
      "chr1\thg19\tcDNA_match\t82724918\t82725084\t.\t+\t.\tread_id \"m64013_190226_194608/176751452/ccs.path1\";\n",
      "chr1\thg19\tcDNA_match\t82727228\t82727336\t.\t+\t.\tread_id \"m64013_190226_194608/176751452/ccs.path1\";\n",
      "chr1\thg19\tcDNA_match\t82729216\t82729436\t.\t+\t.\tread_id \"m64013_190226_194608/176751452/ccs.path1\";\n",
      "chr1\thg19\tcDNA_match\t82731113\t82731282\t.\t+\t.\tread_id \"m64013_190226_194608/176751452/ccs.path1\";\n",
      "chr1\thg19\tcDNA_match\t82735419\t82735507\t.\t+\t.\tread_id \"m64013_190226_194608/176751452/ccs.path1\";\n",
      "chr1\thg19\tcDNA_match\t82747083\t82747142\t.\t+\t.\tread_id \"m64013_190226_194608/176751452/ccs.path1\";\n",
      "chr1\thg19\tcDNA_match\t82750520\t82750604\t.\t+\t.\tread_id \"m64013_190226_194608/176751452/ccs.path1\";\n",
      "chr1\thg19\tcDNA_match\t82751585\t82752348\t.\t+\t.\tread_id \"m64013_190226_194608/176751452/ccs.path1\";\n",
      "chr17\thg19\tcDNA_match\t33908185\t33908586\t.\t-\t.\tread_id\t\"m64013_190226_194608/87426202/ccs.path1\";\n",
      "chr17\thg19\tcDNA_match\t33909181\t33909342\t.\t-\t.\tread_id\t\"m64013_190226_194608/87426202/ccs.path1\";\n",
      "chr4\thg19\tcDNA_match\t103619711\t103619745\t.\t+\t.\tread_id\t\"m64013_190226_194608/48955742/ccs.path1\";\n",
      "chr4\thg19\tcDNA_match\t103951834\t103951993\t.\t+\t.\tread_id\t\"m64013_190226_194608/48955742/ccs.path1\";\n",
      "chr4\thg19\tcDNA_match\t104161879\t104161950\t.\t+\t.\tread_id\t\"m64013_190226_194608/48955742/ccs.path1\";\n",
      "chr4\thg19\tcDNA_match\t104479074\t104479275\t.\t+\t.\tread_id\t\"m64013_190226_194608/48955742/ccs.path1\";\n",
      "chr4\thg19\tcDNA_match\t104605298\t104605437\t.\t+\t.\tread_id\t\"m64013_190226_194608/48955742/ccs.path1\";\n",
      "chr4\thg19\tcDNA_match\t104613169\t104613267\t.\t+\t.\tread_id\t\"m64013_190226_194608/48955742/ccs.path1\";\n",
      "chr4\thg19\tcDNA_match\t104678702\t104678833\t.\t+\t.\tread_id\t\"m64013_190226_194608/48955742/ccs.path1\";\n",
      "chr4\thg19\tcDNA_match\t104679453\t104679572\t.\t+\t.\tread_id\t\"m64013_190226_194608/48955742/ccs.path1\";\n",
      "chr4\thg19\tcDNA_match\t104680070\t104680381\t.\t+\t.\tread_id\t\"m64013_190226_194608/48955742/ccs.path1\";\n",
      "chr4\thg19\tcDNA_match\t127026880\t127026886\t.\t+\t.\tread_id \"m64013_190226_194608/173343265/ccs.path1\";\n",
      "chr4\thg19\tcDNA_match\t127027268\t127027316\t.\t+\t.\tread_id \"m64013_190226_194608/173343265/ccs.path1\";\n",
      "chr4\thg19\tcDNA_match\t127027397\t127027518\t.\t+\t.\tread_id \"m64013_190226_194608/173343265/ccs.path1\";\n"
     ]
    }
   ],
   "source": [
    "%%bash\n",
    "cd /cndd3/dburrows/DATA/public_datasets/splice/joglekar_21\n",
    "head -50 GSM4800806_PFC_sc_Rep1_PacBio_processed.gff\n",
    "\n",
    "#awk '{$a=$5-$4;print $a}' GSM4800806_PFC_sc_Rep1_PacBio_processed.gff | head -50"
   ]
  },
  {
   "cell_type": "code",
   "execution_count": null,
   "id": "9a949ba3",
   "metadata": {},
   "outputs": [],
   "source": [
    "awk "
   ]
  }
 ],
 "metadata": {
  "kernelspec": {
   "display_name": "Python 3 (ipykernel)",
   "language": "python",
   "name": "python3"
  },
  "language_info": {
   "codemirror_mode": {
    "name": "ipython",
    "version": 3
   },
   "file_extension": ".py",
   "mimetype": "text/x-python",
   "name": "python",
   "nbconvert_exporter": "python",
   "pygments_lexer": "ipython3",
   "version": "3.9.7"
  }
 },
 "nbformat": 4,
 "nbformat_minor": 5
}
